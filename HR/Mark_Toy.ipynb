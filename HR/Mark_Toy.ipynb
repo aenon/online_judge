{
 "cells": [
  {
   "cell_type": "code",
   "execution_count": 1,
   "metadata": {
    "collapsed": true
   },
   "outputs": [],
   "source": [
    "prices = [1, 12, 5, 111, 200, 1000, 10]"
   ]
  },
  {
   "cell_type": "code",
   "execution_count": 5,
   "metadata": {
    "collapsed": false
   },
   "outputs": [],
   "source": [
    "sorted_price = []\n",
    "for i in range(len(prices)):\n",
    "    for j in range(i, len(prices)):\n",
    "      if prices[i] > prices[j]:\n",
    "        temp = prices[i]\n",
    "        prices[i] = prices[j]\n",
    "        prices[j] = temp"
   ]
  },
  {
   "cell_type": "code",
   "execution_count": 4,
   "metadata": {
    "collapsed": false
   },
   "outputs": [
    {
     "data": {
      "text/plain": [
       "[1000, 200, 111, 12, 10, 5, 1]"
      ]
     },
     "execution_count": 4,
     "metadata": {},
     "output_type": "execute_result"
    }
   ],
   "source": [
    "prices"
   ]
  },
  {
   "cell_type": "code",
   "execution_count": 10,
   "metadata": {
    "collapsed": true
   },
   "outputs": [],
   "source": [
    "def max_toys(prices, rupees):\n",
    "  \n",
    "  sorted_prices = prices\n",
    "  for i in range(len(sorted_prices)):\n",
    "    for j in range(i, len(sorted_prices)):\n",
    "      if sorted_prices[i] > sorted_prices[j]:\n",
    "        temp = sorted_prices[i]\n",
    "        sorted_prices[i] = sorted_prices[j]\n",
    "        sorted_prices[j] = temp\n",
    "  print sorted_prices\n",
    "  sum_price = 0\n",
    "  \n",
    "  for num_toys in range(len(sorted_prices)):\n",
    "    sum_price += sorted_prices[num_toys]\n",
    "    if sum_price > rupees:\n",
    "      answer = num_toys - 1\n",
    "      break\n",
    "  \n",
    "  \n",
    "  return answer\n"
   ]
  },
  {
   "cell_type": "code",
   "execution_count": 11,
   "metadata": {
    "collapsed": false
   },
   "outputs": [
    {
     "name": "stdout",
     "output_type": "stream",
     "text": [
      "[1, 5, 10, 12, 111, 200, 1000]\n"
     ]
    },
    {
     "data": {
      "text/plain": [
       "3"
      ]
     },
     "execution_count": 11,
     "metadata": {},
     "output_type": "execute_result"
    }
   ],
   "source": [
    "max_toys([1000, 200, 111, 12, 10, 5, 1], 50)"
   ]
  },
  {
   "cell_type": "code",
   "execution_count": null,
   "metadata": {
    "collapsed": true
   },
   "outputs": [],
   "source": []
  }
 ],
 "metadata": {
  "kernelspec": {
   "display_name": "Python 2",
   "language": "python",
   "name": "python2"
  },
  "language_info": {
   "codemirror_mode": {
    "name": "ipython",
    "version": 2
   },
   "file_extension": ".py",
   "mimetype": "text/x-python",
   "name": "python",
   "nbconvert_exporter": "python",
   "pygments_lexer": "ipython2",
   "version": "2.7.10"
  }
 },
 "nbformat": 4,
 "nbformat_minor": 0
}
