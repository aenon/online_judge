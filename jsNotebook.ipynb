{
 "cells": [
  {
   "cell_type": "markdown",
   "metadata": {},
   "source": [
    "# Javascript Notebook"
   ]
  },
  {
   "cell_type": "markdown",
   "metadata": {},
   "source": [
    "## `for` loop\n",
    "```javascript\n",
    "for (const i of [...Array(n).keys()])\n",
    "```"
   ]
  },
  {
   "cell_type": "markdown",
   "metadata": {},
   "source": [
    "## `Object.keys` and `find`\n",
    "```javascript\n",
    "const j = +Object.keys(myArray).find(key => myArray[key] == someValue)\n",
    "```"
   ]
  },
  {
   "cell_type": "markdown",
   "metadata": {},
   "source": [
    "## `Map`\n",
    "```javascript\n",
    "const myMap = new Map()\n",
    "myMap.set(0, 'zzz')\n",
    "myMap.get(0) // 'zzz'\n",
    "myMap.set(1, 'ooo')\n",
    "for (const [key, value] of myMap) {\n",
    "    console.log(`${key} = ${value}`)\n",
    "}\n",
    "```"
   ]
  },
  {
   "cell_type": "markdown",
   "metadata": {},
   "source": [
    "## DefaultMap"
   ]
  },
  {
   "cell_type": "code",
   "execution_count": 55,
   "metadata": {
    "collapsed": true
   },
   "outputs": [],
   "source": [
    "const DefaultMap = (defaultValue = undefined) => {\n",
    "    const map = new Map()\n",
    "    const set = (key, value) => {\n",
    "        map.set(key, value)\n",
    "    }\n",
    "    const get = key => {\n",
    "        if (map.get('a')) {\n",
    "            return map.get('a')\n",
    "        }\n",
    "        return defaultValue\n",
    "    }\n",
    "    return {set, get}\n",
    "}"
   ]
  },
  {
   "cell_type": "markdown",
   "metadata": {},
   "source": [
    "## Stack"
   ]
  },
  {
   "cell_type": "code",
   "execution_count": 53,
   "metadata": {},
   "outputs": [
    {
     "data": {
      "text/plain": [
       "1"
      ]
     },
     "execution_count": 53,
     "metadata": {},
     "output_type": "execute_result"
    }
   ],
   "source": [
    "const myStack = []\n",
    "myStack.push(1)\n",
    "myStack.pop()"
   ]
  },
  {
   "cell_type": "markdown",
   "metadata": {},
   "source": [
    "## Queue"
   ]
  },
  {
   "cell_type": "code",
   "execution_count": 54,
   "metadata": {},
   "outputs": [
    {
     "data": {
      "text/plain": [
       "[ 2 ]"
      ]
     },
     "execution_count": 54,
     "metadata": {},
     "output_type": "execute_result"
    }
   ],
   "source": [
    "const myQ = []\n",
    "myQ.push(1)\n",
    "myQ.push(2)\n",
    "myQ.shift()\n",
    "myQ"
   ]
  },
  {
   "cell_type": "markdown",
   "metadata": {},
   "source": [
    "## Linked List"
   ]
  },
  {
   "cell_type": "markdown",
   "metadata": {},
   "source": [
    "### Singly Linked List"
   ]
  },
  {
   "cell_type": "code",
   "execution_count": 41,
   "metadata": {},
   "outputs": [],
   "source": [
    "const createSLL = () => {\n",
    "    let head = null\n",
    "    \n",
    "    const getHead = () => head\n",
    "    \n",
    "    const push = value => {\n",
    "        let node = {value, next: null}\n",
    "        if (!head) {\n",
    "            head = node\n",
    "        }\n",
    "        else {\n",
    "            let current = head\n",
    "            while (current.next) {\n",
    "                current = current.next\n",
    "            }\n",
    "            current.next = node\n",
    "        }\n",
    "    }\n",
    "    return {getHead, push}\n",
    "}"
   ]
  },
  {
   "cell_type": "code",
   "execution_count": 42,
   "metadata": {
    "collapsed": true
   },
   "outputs": [],
   "source": [
    "var sll = createSLL()"
   ]
  },
  {
   "cell_type": "code",
   "execution_count": 43,
   "metadata": {},
   "outputs": [],
   "source": [
    "sll.push(3);\n",
    "sll.push(4);\n",
    "sll.push(5);"
   ]
  },
  {
   "cell_type": "code",
   "execution_count": 44,
   "metadata": {},
   "outputs": [
    {
     "data": {
      "text/plain": [
       "{ value: 3, next: { value: 4, next: { value: 5, next: null } } }"
      ]
     },
     "execution_count": 44,
     "metadata": {},
     "output_type": "execute_result"
    }
   ],
   "source": [
    "sll.getHead()"
   ]
  },
  {
   "cell_type": "markdown",
   "metadata": {},
   "source": [
    "### Doubly Linked List"
   ]
  },
  {
   "cell_type": "code",
   "execution_count": 45,
   "metadata": {
    "collapsed": true
   },
   "outputs": [],
   "source": [
    "var createDLL = () => {\n",
    "    let head = null\n",
    "    const getHead = () => head\n",
    "    const push = value => {\n",
    "        let current = head\n",
    "        let previous = head\n",
    "        if (!head) {\n",
    "            head = {value, previous: null, next: null}\n",
    "        }\n",
    "        else {\n",
    "            while (current && current.next) {\n",
    "                previous = current\n",
    "                current = current.next\n",
    "            }\n",
    "            current.next = {value, previous: current, next: null}\n",
    "        }\n",
    "    }\n",
    "    return {getHead, push}\n",
    "}"
   ]
  },
  {
   "cell_type": "code",
   "execution_count": 47,
   "metadata": {},
   "outputs": [],
   "source": [
    "var dll = createDLL()\n",
    "dll.push(2)\n",
    "dll.push(3)\n",
    "dll.push(4)\n",
    "dll.push(5)"
   ]
  },
  {
   "cell_type": "code",
   "execution_count": 51,
   "metadata": {},
   "outputs": [
    {
     "data": {
      "text/plain": [
       "{ value: 2,\n",
       "  previous: null,\n",
       "  next: \n",
       "   { value: 3,\n",
       "     previous: [Circular],\n",
       "     next: { value: 4, previous: [Circular], next: [Object] } } }"
      ]
     },
     "execution_count": 51,
     "metadata": {},
     "output_type": "execute_result"
    }
   ],
   "source": [
    "dll.getHead().next.previous"
   ]
  },
  {
   "cell_type": "markdown",
   "metadata": {},
   "source": [
    "## Graph"
   ]
  },
  {
   "cell_type": "markdown",
   "metadata": {},
   "source": [
    "### Adjacency Matrix"
   ]
  },
  {
   "cell_type": "code",
   "execution_count": 58,
   "metadata": {},
   "outputs": [],
   "source": [
    "const adjacencyMatrix = DefaultMap(DefaultMap(false))"
   ]
  },
  {
   "cell_type": "code",
   "execution_count": 59,
   "metadata": {
    "collapsed": true
   },
   "outputs": [],
   "source": [
    "for (valuePair of [\n",
    "    [0, 1],\n",
    "    [0, 5],\n",
    "    [0, 4],\n",
    "    [1, 3],\n",
    "    [1, 4],\n",
    "    [2, 1],\n",
    "    [3, 2],\n",
    "    [3, 4]\n",
    "]){\n",
    "    adjacencyMatrix.get(valuePair[0]).set(valuePair[1], true)\n",
    "}"
   ]
  },
  {
   "cell_type": "code",
   "execution_count": 67,
   "metadata": {},
   "outputs": [
    {
     "data": {
      "text/plain": [
       "false"
      ]
     },
     "execution_count": 67,
     "metadata": {},
     "output_type": "execute_result"
    }
   ],
   "source": [
    "adjacencyMatrix.get(1).get(1)"
   ]
  },
  {
   "cell_type": "code",
   "execution_count": 71,
   "metadata": {
    "collapsed": true
   },
   "outputs": [],
   "source": [
    "adjacencyMatrix.get(1).set(1, 50)"
   ]
  },
  {
   "cell_type": "code",
   "execution_count": 72,
   "metadata": {},
   "outputs": [
    {
     "data": {
      "text/plain": [
       "false"
      ]
     },
     "execution_count": 72,
     "metadata": {},
     "output_type": "execute_result"
    }
   ],
   "source": [
    "adjacencyMatrix.get(1).get(1)"
   ]
  },
  {
   "cell_type": "code",
   "execution_count": 74,
   "metadata": {},
   "outputs": [
    {
     "data": {
      "text/plain": [
       "false"
      ]
     },
     "execution_count": 74,
     "metadata": {},
     "output_type": "execute_result"
    }
   ],
   "source": [
    "adjacencyMatrix.get(1).get(3)"
   ]
  },
  {
   "cell_type": "markdown",
   "metadata": {},
   "source": [
    "### Hoisting "
   ]
  },
  {
   "cell_type": "markdown",
   "metadata": {},
   "source": [
    "(not shown in jupyter)"
   ]
  },
  {
   "cell_type": "code",
   "execution_count": 84,
   "metadata": {},
   "outputs": [
    {
     "name": "stdout",
     "output_type": "stream",
     "text": [
      "Hello, Harry!\n"
     ]
    }
   ],
   "source": [
    "var sayHi = name => console.log(`Hello, ${name}!`)\n",
    "sayHi('Harry')\n"
   ]
  },
  {
   "cell_type": "markdown",
   "metadata": {},
   "source": [
    "### 1. Two Sum"
   ]
  },
  {
   "cell_type": "code",
   "execution_count": 7,
   "metadata": {
    "collapsed": true
   },
   "outputs": [],
   "source": [
    "var twoSum = (nums, target) => {\n",
    "    for (const i of [...Array(nums.length).keys()]) {\n",
    "        if (nums.includes(target - nums[i])) {\n",
    "            const j = +Object.keys(nums).find(key => nums[key] == target - nums[i] && key != i)\n",
    "            if (j) {\n",
    "                return [i, j]\n",
    "            }\n",
    "        }\n",
    "    }\n",
    "    return \"not found\"\n",
    "}"
   ]
  },
  {
   "cell_type": "markdown",
   "metadata": {},
   "source": [
    "### 2. Add Two Numbers"
   ]
  },
  {
   "cell_type": "code",
   "execution_count": 20,
   "metadata": {
    "collapsed": true
   },
   "outputs": [],
   "source": [
    "function ListNode(val) {\n",
    "    this.val = val;\n",
    "    this.next = null;\n",
    "}"
   ]
  },
  {
   "cell_type": "code",
   "execution_count": 21,
   "metadata": {
    "collapsed": true
   },
   "outputs": [],
   "source": [
    "function appendAtEnd(Node, val) {\n",
    "    if (!Node.next) {\n",
    "        Node.next = ListNode(value)\n",
    "    }\n",
    "    else {\n",
    "        appendAtEnd(Node.next, val)\n",
    "    }\n",
    "}"
   ]
  },
  {
   "cell_type": "code",
   "execution_count": 24,
   "metadata": {},
   "outputs": [],
   "source": [
    "var list1 = ListNode(2)"
   ]
  },
  {
   "cell_type": "code",
   "execution_count": 26,
   "metadata": {},
   "outputs": [],
   "source": [
    "list1"
   ]
  },
  {
   "cell_type": "code",
   "execution_count": null,
   "metadata": {
    "collapsed": true
   },
   "outputs": [],
   "source": []
  },
  {
   "cell_type": "code",
   "execution_count": null,
   "metadata": {
    "collapsed": true
   },
   "outputs": [],
   "source": []
  },
  {
   "cell_type": "code",
   "execution_count": null,
   "metadata": {
    "collapsed": true
   },
   "outputs": [],
   "source": []
  },
  {
   "cell_type": "code",
   "execution_count": null,
   "metadata": {
    "collapsed": true
   },
   "outputs": [],
   "source": []
  },
  {
   "cell_type": "code",
   "execution_count": 86,
   "metadata": {},
   "outputs": [],
   "source": [
    "function foo() {\n",
    "    let a = 2\n",
    "    function bar() {\n",
    "        console.log(a)\n",
    "    }\n",
    "    return bar\n",
    "}"
   ]
  },
  {
   "cell_type": "code",
   "execution_count": 87,
   "metadata": {
    "collapsed": true
   },
   "outputs": [],
   "source": [
    "var baz = foo()"
   ]
  },
  {
   "cell_type": "code",
   "execution_count": 88,
   "metadata": {},
   "outputs": [
    {
     "name": "stdout",
     "output_type": "stream",
     "text": [
      "2\n"
     ]
    }
   ],
   "source": [
    "baz()"
   ]
  },
  {
   "cell_type": "code",
   "execution_count": null,
   "metadata": {
    "collapsed": true
   },
   "outputs": [],
   "source": []
  },
  {
   "cell_type": "code",
   "execution_count": 93,
   "metadata": {
    "collapsed": true
   },
   "outputs": [],
   "source": [
    "var foo = () => {\n",
    "    let  a = 2\n",
    "    var bar = () => console.log(a)\n",
    "    return {bar}\n",
    "}"
   ]
  },
  {
   "cell_type": "code",
   "execution_count": 94,
   "metadata": {
    "collapsed": true
   },
   "outputs": [],
   "source": [
    "var baz = foo()"
   ]
  },
  {
   "cell_type": "code",
   "execution_count": 96,
   "metadata": {},
   "outputs": [
    {
     "name": "stdout",
     "output_type": "stream",
     "text": [
      "2\n"
     ]
    }
   ],
   "source": [
    "baz.bar()"
   ]
  },
  {
   "cell_type": "code",
   "execution_count": null,
   "metadata": {
    "collapsed": true
   },
   "outputs": [],
   "source": []
  }
 ],
 "metadata": {
  "kernelspec": {
   "display_name": "Javascript (Node.js)",
   "language": "javascript",
   "name": "javascript"
  },
  "language_info": {
   "file_extension": ".js",
   "mimetype": "application/javascript",
   "name": "javascript",
   "version": "9.5.0"
  }
 },
 "nbformat": 4,
 "nbformat_minor": 2
}
