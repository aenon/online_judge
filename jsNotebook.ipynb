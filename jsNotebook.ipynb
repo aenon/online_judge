{
 "cells": [
  {
   "cell_type": "markdown",
   "metadata": {},
   "source": [
    "# Javascript Notebook"
   ]
  },
  {
   "cell_type": "markdown",
   "metadata": {},
   "source": [
    "## `for` loop\n",
    "```javascript\n",
    "for (const i of [...Array(n).keys()])\n",
    "```"
   ]
  },
  {
   "cell_type": "markdown",
   "metadata": {},
   "source": [
    "## `Object.keys` and `find`\n",
    "```javascript\n",
    "const j = +Object.keys(myArray).find(key => myArray[key] == someValue)\n",
    "```"
   ]
  },
  {
   "cell_type": "markdown",
   "metadata": {},
   "source": [
    "## `Map`\n",
    "```javascript\n",
    "const myMap = new Map()\n",
    "myMap.set(0, 'zzz')\n",
    "myMap.get(0) // 'zzz'\n",
    "myMap.set(1, 'ooo')\n",
    "for (const [key, value] of myMap) {\n",
    "    console.log(`${key} = ${value}`)\n",
    "}\n",
    "```"
   ]
  },
  {
   "cell_type": "markdown",
   "metadata": {},
   "source": [
    "## Stack"
   ]
  },
  {
   "cell_type": "code",
   "execution_count": 53,
   "metadata": {},
   "outputs": [
    {
     "data": {
      "text/plain": [
       "1"
      ]
     },
     "execution_count": 53,
     "metadata": {},
     "output_type": "execute_result"
    }
   ],
   "source": [
    "const myStack = []\n",
    "myStack.push(1)\n",
    "myStack.pop()"
   ]
  },
  {
   "cell_type": "markdown",
   "metadata": {},
   "source": [
    "## Queue"
   ]
  },
  {
   "cell_type": "code",
   "execution_count": 54,
   "metadata": {},
   "outputs": [
    {
     "data": {
      "text/plain": [
       "[ 2 ]"
      ]
     },
     "execution_count": 54,
     "metadata": {},
     "output_type": "execute_result"
    }
   ],
   "source": [
    "const myQ = []\n",
    "myQ.push(1)\n",
    "myQ.push(2)\n",
    "myQ.shift()\n",
    "myQ"
   ]
  },
  {
   "cell_type": "markdown",
   "metadata": {},
   "source": [
    "## Linked List"
   ]
  },
  {
   "cell_type": "markdown",
   "metadata": {},
   "source": [
    "### Singly Linked List"
   ]
  },
  {
   "cell_type": "code",
   "execution_count": 41,
   "metadata": {
    "collapsed": true
   },
   "outputs": [],
   "source": [
    "const createSLL = () => {\n",
    "    let head = null\n",
    "    \n",
    "    const getHead = () => head\n",
    "    \n",
    "    const push = value => {\n",
    "        let node = {value, next: null}\n",
    "        if (!head) {\n",
    "            head = node\n",
    "        }\n",
    "        else {\n",
    "            let current = head\n",
    "            while (current.next) {\n",
    "                current = current.next\n",
    "            }\n",
    "            current.next = node\n",
    "        }\n",
    "    }\n",
    "    return {getHead, push}\n",
    "}"
   ]
  },
  {
   "cell_type": "code",
   "execution_count": 42,
   "metadata": {
    "collapsed": true
   },
   "outputs": [],
   "source": [
    "var sll = createSLL()"
   ]
  },
  {
   "cell_type": "code",
   "execution_count": 43,
   "metadata": {
    "collapsed": true
   },
   "outputs": [],
   "source": [
    "sll.push(3);\n",
    "sll.push(4);\n",
    "sll.push(5);"
   ]
  },
  {
   "cell_type": "code",
   "execution_count": 44,
   "metadata": {},
   "outputs": [
    {
     "data": {
      "text/plain": [
       "{ value: 3, next: { value: 4, next: { value: 5, next: null } } }"
      ]
     },
     "execution_count": 44,
     "metadata": {},
     "output_type": "execute_result"
    }
   ],
   "source": [
    "sll.getHead()"
   ]
  },
  {
   "cell_type": "markdown",
   "metadata": {},
   "source": [
    "### Doubly Linked List"
   ]
  },
  {
   "cell_type": "code",
   "execution_count": 45,
   "metadata": {
    "collapsed": true
   },
   "outputs": [],
   "source": [
    "var createDLL = () => {\n",
    "    let head = null\n",
    "    const getHead = () => head\n",
    "    const push = value => {\n",
    "        let current = head\n",
    "        let previous = head\n",
    "        if (!head) {\n",
    "            head = {value, previous: null, next: null}\n",
    "        }\n",
    "        else {\n",
    "            while (current && current.next) {\n",
    "                previous = current\n",
    "                current = current.next\n",
    "            }\n",
    "            current.next = {value, previous: current, next: null}\n",
    "        }\n",
    "    }\n",
    "    return {getHead, push}\n",
    "}"
   ]
  },
  {
   "cell_type": "code",
   "execution_count": 47,
   "metadata": {
    "collapsed": true
   },
   "outputs": [],
   "source": [
    "var dll = createDLL()\n",
    "dll.push(2)\n",
    "dll.push(3)\n",
    "dll.push(4)\n",
    "dll.push(5)"
   ]
  },
  {
   "cell_type": "code",
   "execution_count": 51,
   "metadata": {},
   "outputs": [
    {
     "data": {
      "text/plain": [
       "{ value: 2,\n",
       "  previous: null,\n",
       "  next: \n",
       "   { value: 3,\n",
       "     previous: [Circular],\n",
       "     next: { value: 4, previous: [Circular], next: [Object] } } }"
      ]
     },
     "execution_count": 51,
     "metadata": {},
     "output_type": "execute_result"
    }
   ],
   "source": [
    "dll.getHead().next.previous"
   ]
  },
  {
   "cell_type": "markdown",
   "metadata": {},
   "source": [
    "### Singly Linked List Node"
   ]
  },
  {
   "cell_type": "code",
   "execution_count": null,
   "metadata": {
    "collapsed": true
   },
   "outputs": [],
   "source": [
    "var ListNode = val => {\n",
    "    let value = val\n",
    "    let next = null\n",
    "    const getValue = () => val\n",
    "    const setValue = newVal => {\n",
    "        value = newVal\n",
    "    }\n",
    "    const getNext = () => next\n",
    "    const setNext = nextNode => {\n",
    "        next = nextNode\n",
    "    }\n",
    "    const appendEnd = endVal => {}\n",
    "    return {getValue, setValue, getNext, setNext}\n",
    "}"
   ]
  },
  {
   "cell_type": "markdown",
   "metadata": {},
   "source": [
    "## Tree"
   ]
  },
  {
   "cell_type": "code",
   "execution_count": null,
   "metadata": {
    "collapsed": true
   },
   "outputs": [],
   "source": [
    "var TreeNode = val => {\n",
    "    let value = val\n",
    "    let children = []\n",
    "    const getValue = () => value\n",
    "    const getChildren = () => children\n",
    "    const setValue = newVal => {value = newVal}\n",
    "    const addChild = childNode => {children.push(childNode)}\n",
    "    return{getValue, getChildren, setValue, addChild}\n",
    "}"
   ]
  },
  {
   "cell_type": "markdown",
   "metadata": {},
   "source": [
    "## Binary Tree"
   ]
  },
  {
   "cell_type": "code",
   "execution_count": 1,
   "metadata": {
    "collapsed": true
   },
   "outputs": [],
   "source": [
    "var TreeNode = val => {\n",
    "    let value = val\n",
    "    let left = null\n",
    "    let right = null\n",
    "    const getValue = () => value\n",
    "    const setValue = newVal => {value = newVal}\n",
    "    const getLeft = () => left\n",
    "    const getRight = () => right\n",
    "    const setLeft = Node => {left = Node}\n",
    "    const setRight = Node => {right = Node}\n",
    "    return{getValue, setValue, getLeft, getRight, setLeft, setRight}\n",
    "}"
   ]
  },
  {
   "cell_type": "code",
   "execution_count": 5,
   "metadata": {
    "collapsed": true
   },
   "outputs": [],
   "source": [
    "var IOT = node => {\n",
    "    if (node) {\n",
    "        IOT(node.getLeft())\n",
    "        console.log(node.getValue())\n",
    "        IOT(node.getRight())\n",
    "    }\n",
    "}"
   ]
  },
  {
   "cell_type": "code",
   "execution_count": 6,
   "metadata": {
    "collapsed": true
   },
   "outputs": [],
   "source": [
    "var PreOT = node => {\n",
    "    if (node) {\n",
    "        console.log(node.getValue())\n",
    "        PreOT(node.getLeft())\n",
    "        PreOT(node.getRight())\n",
    "    }\n",
    "}"
   ]
  },
  {
   "cell_type": "code",
   "execution_count": 7,
   "metadata": {
    "collapsed": true
   },
   "outputs": [],
   "source": [
    "var PostOT = node => {\n",
    "    if (node) {\n",
    "        PostOT(node.getLeft())\n",
    "        PostOT(node.getRight())\n",
    "        console.log(node.getValue())\n",
    "    }\n",
    "}"
   ]
  },
  {
   "cell_type": "code",
   "execution_count": 11,
   "metadata": {
    "collapsed": true
   },
   "outputs": [],
   "source": [
    "var myNode = TreeNode(10)\n",
    "myNode.setLeft(TreeNode(5))\n",
    "myNode.getLeft().setLeft(TreeNode(3))\n",
    "myNode.getLeft().setRight(TreeNode(7))\n",
    "myNode.setRight(TreeNode(20))"
   ]
  },
  {
   "cell_type": "code",
   "execution_count": 12,
   "metadata": {},
   "outputs": [
    {
     "name": "stdout",
     "output_type": "stream",
     "text": [
      "3\n",
      "5\n",
      "7\n",
      "10\n",
      "20\n"
     ]
    }
   ],
   "source": [
    "IOT(myNode)"
   ]
  },
  {
   "cell_type": "code",
   "execution_count": 13,
   "metadata": {},
   "outputs": [
    {
     "name": "stdout",
     "output_type": "stream",
     "text": [
      "10\n",
      "5\n",
      "3\n",
      "7\n",
      "20\n"
     ]
    }
   ],
   "source": [
    "PreOT(myNode)"
   ]
  },
  {
   "cell_type": "code",
   "execution_count": 14,
   "metadata": {},
   "outputs": [
    {
     "name": "stdout",
     "output_type": "stream",
     "text": [
      "3\n",
      "7\n",
      "5\n",
      "20\n",
      "10\n"
     ]
    }
   ],
   "source": [
    "PostOT(myNode)"
   ]
  },
  {
   "cell_type": "markdown",
   "metadata": {},
   "source": [
    "## Graph"
   ]
  },
  {
   "cell_type": "markdown",
   "metadata": {},
   "source": [
    "# LeetCode"
   ]
  },
  {
   "cell_type": "markdown",
   "metadata": {},
   "source": [
    "### Adjacency Matrix"
   ]
  },
  {
   "cell_type": "markdown",
   "metadata": {},
   "source": [
    "### 1. Two Sum"
   ]
  },
  {
   "cell_type": "code",
   "execution_count": 7,
   "metadata": {
    "collapsed": true
   },
   "outputs": [],
   "source": [
    "var twoSum = (nums, target) => {\n",
    "    for (const i of [...Array(nums.length).keys()]) {\n",
    "        if (nums.includes(target - nums[i])) {\n",
    "            const j = +Object.keys(nums).find(key => nums[key] == target - nums[i] && key != i)\n",
    "            if (j) {\n",
    "                return [i, j]\n",
    "            }\n",
    "        }\n",
    "    }\n",
    "    return \"not found\"\n",
    "}"
   ]
  },
  {
   "cell_type": "markdown",
   "metadata": {},
   "source": [
    "### 2. Add Two Numbers"
   ]
  },
  {
   "cell_type": "code",
   "execution_count": 20,
   "metadata": {
    "collapsed": true
   },
   "outputs": [],
   "source": [
    "function ListNode(val) {\n",
    "    this.val = val;\n",
    "    this.next = null;\n",
    "}"
   ]
  },
  {
   "cell_type": "code",
   "execution_count": 21,
   "metadata": {
    "collapsed": true
   },
   "outputs": [],
   "source": [
    "function appendAtEnd(Node, val) {\n",
    "    if (!Node.next) {\n",
    "        Node.next = ListNode(value)\n",
    "    }\n",
    "    else {\n",
    "        appendAtEnd(Node.next, val)\n",
    "    }\n",
    "}"
   ]
  },
  {
   "cell_type": "code",
   "execution_count": 24,
   "metadata": {
    "collapsed": true
   },
   "outputs": [],
   "source": [
    "var list1 = ListNode(2)"
   ]
  },
  {
   "cell_type": "code",
   "execution_count": 26,
   "metadata": {
    "collapsed": true
   },
   "outputs": [],
   "source": [
    "list1"
   ]
  },
  {
   "cell_type": "code",
   "execution_count": null,
   "metadata": {
    "collapsed": true
   },
   "outputs": [],
   "source": []
  },
  {
   "cell_type": "code",
   "execution_count": null,
   "metadata": {
    "collapsed": true
   },
   "outputs": [],
   "source": []
  },
  {
   "cell_type": "code",
   "execution_count": null,
   "metadata": {
    "collapsed": true
   },
   "outputs": [],
   "source": []
  },
  {
   "cell_type": "code",
   "execution_count": null,
   "metadata": {
    "collapsed": true
   },
   "outputs": [],
   "source": []
  },
  {
   "cell_type": "code",
   "execution_count": 86,
   "metadata": {
    "collapsed": true
   },
   "outputs": [],
   "source": [
    "function foo() {\n",
    "    let a = 2\n",
    "    function bar() {\n",
    "        console.log(a)\n",
    "    }\n",
    "    return bar\n",
    "}"
   ]
  },
  {
   "cell_type": "code",
   "execution_count": 87,
   "metadata": {
    "collapsed": true
   },
   "outputs": [],
   "source": [
    "var baz = foo()"
   ]
  },
  {
   "cell_type": "code",
   "execution_count": 88,
   "metadata": {},
   "outputs": [
    {
     "name": "stdout",
     "output_type": "stream",
     "text": [
      "2\n"
     ]
    }
   ],
   "source": [
    "baz()"
   ]
  },
  {
   "cell_type": "code",
   "execution_count": null,
   "metadata": {
    "collapsed": true
   },
   "outputs": [],
   "source": []
  },
  {
   "cell_type": "code",
   "execution_count": 93,
   "metadata": {
    "collapsed": true
   },
   "outputs": [],
   "source": [
    "var foo = () => {\n",
    "    let  a = 2\n",
    "    var bar = () => console.log(a)\n",
    "    return {bar}\n",
    "}"
   ]
  },
  {
   "cell_type": "code",
   "execution_count": 94,
   "metadata": {
    "collapsed": true
   },
   "outputs": [],
   "source": [
    "var baz = foo()"
   ]
  },
  {
   "cell_type": "code",
   "execution_count": 96,
   "metadata": {},
   "outputs": [
    {
     "name": "stdout",
     "output_type": "stream",
     "text": [
      "2\n"
     ]
    }
   ],
   "source": [
    "baz.bar()"
   ]
  },
  {
   "cell_type": "code",
   "execution_count": null,
   "metadata": {
    "collapsed": true
   },
   "outputs": [],
   "source": []
  }
 ],
 "metadata": {
  "kernelspec": {
   "display_name": "Javascript (Node.js)",
   "language": "javascript",
   "name": "javascript"
  },
  "language_info": {
   "file_extension": ".js",
   "mimetype": "application/javascript",
   "name": "javascript",
   "version": "9.5.0"
  }
 },
 "nbformat": 4,
 "nbformat_minor": 2
}
