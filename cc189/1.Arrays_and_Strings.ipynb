{
 "cells": [
  {
   "cell_type": "markdown",
   "metadata": {},
   "source": [
    "# CC189 - Cracking the Coding Interview\n",
    "## Chapter 1 Arrays and Strings"
   ]
  },
  {
   "cell_type": "markdown",
   "metadata": {},
   "source": [
    "### 1.1 Is Unique\n",
    "`HashTable`\n",
    "`bitVector`\n",
    "`nLogn`"
   ]
  },
  {
   "cell_type": "code",
   "execution_count": 14,
   "metadata": {},
   "outputs": [],
   "source": [
    "def isUnique(string):\n",
    "    return len(set(string)) == len(string)"
   ]
  },
  {
   "cell_type": "code",
   "execution_count": 18,
   "metadata": {},
   "outputs": [],
   "source": [
    "def isUnique(string):\n",
    "    charMap = {}\n",
    "    for char in string:\n",
    "        if char in charMap:\n",
    "            return False\n",
    "        charMap[char] = True\n",
    "    return True"
   ]
  },
  {
   "cell_type": "code",
   "execution_count": 19,
   "metadata": {},
   "outputs": [],
   "source": [
    "def isUnique(string):\n",
    "    charList = []\n",
    "    for char in string:\n",
    "        if char in charList:\n",
    "            return False\n",
    "        charList.append(char)\n",
    "    return True"
   ]
  },
  {
   "cell_type": "code",
   "execution_count": 29,
   "metadata": {},
   "outputs": [
    {
     "name": "stdout",
     "output_type": "stream",
     "text": [
      "'abc': True\n",
      "'aacc': False\n"
     ]
    }
   ],
   "source": [
    "for string in ['abc', 'aacc']:\n",
    "    print(\"'{}': {}\".format(string, isUnique(string)))"
   ]
  },
  {
   "cell_type": "markdown",
   "metadata": {},
   "source": [
    "### 1.2 Check Permutaion\n",
    "`n`\n",
    "`hashTable`\n",
    "`order of string`"
   ]
  },
  {
   "cell_type": "code",
   "execution_count": 25,
   "metadata": {},
   "outputs": [],
   "source": [
    "def arePermutations(stringA, stringB):\n",
    "    return sorted(stringA) == sorted(stringB)"
   ]
  },
  {
   "cell_type": "code",
   "execution_count": 31,
   "metadata": {},
   "outputs": [],
   "source": [
    "def charMap(string):\n",
    "    return dict([(char, True) for char in string])\n",
    "def arePermutations(stringA, stringB):\n",
    "    return charMap(stringA) == charMap(stringB)"
   ]
  },
  {
   "cell_type": "code",
   "execution_count": 32,
   "metadata": {},
   "outputs": [
    {
     "name": "stdout",
     "output_type": "stream",
     "text": [
      "'abc' and 'cba': True\n",
      "'abc' and 'abc   ': False\n",
      "'abc' and 'Abc': False\n",
      "'acc' and 'xyz': False\n"
     ]
    }
   ],
   "source": [
    "for (stringA, stringB) in [\n",
    "    ('abc', 'cba'),\n",
    "    ('abc', 'abc   '),\n",
    "    ('abc', 'Abc'),\n",
    "    ('acc', 'xyz')\n",
    "]:\n",
    "    print(\"'{}' and '{}': {}\".format(stringA, stringB, arePermutations(stringA, stringB)))"
   ]
  },
  {
   "cell_type": "markdown",
   "metadata": {},
   "source": [
    "### 1.3 URLify"
   ]
  },
  {
   "cell_type": "code",
   "execution_count": 45,
   "metadata": {},
   "outputs": [],
   "source": [
    "def URL(string, length):\n",
    "    return string[:length].replace(' ', '%20')"
   ]
  },
  {
   "cell_type": "code",
   "execution_count": null,
   "metadata": {},
   "outputs": [],
   "source": []
  },
  {
   "cell_type": "code",
   "execution_count": 44,
   "metadata": {},
   "outputs": [
    {
     "name": "stdout",
     "output_type": "stream",
     "text": [
      "'Mr John Smith   ', 13: 'Mr%20John%20Smith'\n",
      "'Somebody here  ', 13: 'Somebody%20here'\n"
     ]
    }
   ],
   "source": [
    "for (string, length) in [('Mr John Smith   ', 13), ('Somebody here  ', 13)]:\n",
    "    print(\"'{}', {}: '{}'\".format(string, length, URL(string, length)))"
   ]
  },
  {
   "cell_type": "code",
   "execution_count": null,
   "metadata": {},
   "outputs": [],
   "source": []
  },
  {
   "cell_type": "code",
   "execution_count": null,
   "metadata": {},
   "outputs": [],
   "source": []
  },
  {
   "cell_type": "code",
   "execution_count": 48,
   "metadata": {},
   "outputs": [],
   "source": [
    "from collections import defaultdict"
   ]
  },
  {
   "cell_type": "code",
   "execution_count": 49,
   "metadata": {},
   "outputs": [],
   "source": [
    "d = defaultdict(list)"
   ]
  },
  {
   "cell_type": "code",
   "execution_count": 52,
   "metadata": {},
   "outputs": [],
   "source": [
    "def tree():\n",
    "    return defaultdict(tree)"
   ]
  },
  {
   "cell_type": "code",
   "execution_count": 53,
   "metadata": {},
   "outputs": [],
   "source": [
    "users = tree()"
   ]
  },
  {
   "cell_type": "code",
   "execution_count": 54,
   "metadata": {},
   "outputs": [],
   "source": [
    "users['cindy']['username'] = 'cindy.lxr'"
   ]
  },
  {
   "cell_type": "code",
   "execution_count": 56,
   "metadata": {},
   "outputs": [],
   "source": [
    "def add(t, path):\n",
    "    for node in path:\n",
    "        t = t[node]"
   ]
  },
  {
   "cell_type": "code",
   "execution_count": 58,
   "metadata": {},
   "outputs": [],
   "source": [
    "add(users, ['left', 'right'])"
   ]
  },
  {
   "cell_type": "code",
   "execution_count": null,
   "metadata": {},
   "outputs": [],
   "source": []
  },
  {
   "cell_type": "code",
   "execution_count": null,
   "metadata": {},
   "outputs": [],
   "source": []
  }
 ],
 "metadata": {
  "kernelspec": {
   "display_name": "Python 2",
   "language": "python",
   "name": "python2"
  },
  "language_info": {
   "codemirror_mode": {
    "name": "ipython",
    "version": 2
   },
   "file_extension": ".py",
   "mimetype": "text/x-python",
   "name": "python",
   "nbconvert_exporter": "python",
   "pygments_lexer": "ipython2",
   "version": "2.7.14"
  }
 },
 "nbformat": 4,
 "nbformat_minor": 2
}
