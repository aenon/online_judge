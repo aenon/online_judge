{
 "cells": [
  {
   "cell_type": "markdown",
   "metadata": {},
   "source": [
    "# CC189 - Cracking the Coding Interview\n",
    "## Chapter 1 Arrays and Strings"
   ]
  },
  {
   "cell_type": "code",
   "execution_count": 127,
   "metadata": {
    "collapsed": true
   },
   "outputs": [],
   "source": [
    "from __future__ import print_function\n",
    "from __future__ import division\n",
    "from __future__ import absolute_import\n",
    "from __future__ import unicode_literals"
   ]
  },
  {
   "cell_type": "markdown",
   "metadata": {},
   "source": [
    "### 1.1 Is Unique\n",
    "`HashTable`\n",
    "`bitVector`\n",
    "`nLogn`"
   ]
  },
  {
   "cell_type": "code",
   "execution_count": 112,
   "metadata": {
    "collapsed": true
   },
   "outputs": [],
   "source": [
    "def isUnique(string):\n",
    "    return len(set(string)) == len(string)"
   ]
  },
  {
   "cell_type": "code",
   "execution_count": 113,
   "metadata": {
    "collapsed": true
   },
   "outputs": [],
   "source": [
    "def isUnique(string):\n",
    "    charMap = {}\n",
    "    for char in string:\n",
    "        if char in charMap:\n",
    "            return False\n",
    "        charMap[char] = True\n",
    "    return True"
   ]
  },
  {
   "cell_type": "code",
   "execution_count": 114,
   "metadata": {
    "collapsed": true
   },
   "outputs": [],
   "source": [
    "def isUnique(string):\n",
    "    charList = []\n",
    "    for char in string:\n",
    "        if char in charList:\n",
    "            return False\n",
    "        charList.append(char)\n",
    "    return True"
   ]
  },
  {
   "cell_type": "code",
   "execution_count": 115,
   "metadata": {},
   "outputs": [
    {
     "name": "stdout",
     "output_type": "stream",
     "text": [
      "'abc' => True\n",
      "'aacc' => False\n"
     ]
    }
   ],
   "source": [
    "for string in ['abc', 'aacc']:\n",
    "    print(\"'{}' => {}\".format(string, isUnique(string)))"
   ]
  },
  {
   "cell_type": "markdown",
   "metadata": {},
   "source": [
    "### 1.2 Check Permutaion\n",
    "`n`\n",
    "`hashTable`\n",
    "`order of string`"
   ]
  },
  {
   "cell_type": "code",
   "execution_count": 5,
   "metadata": {
    "collapsed": true
   },
   "outputs": [],
   "source": [
    "## use sorted\n",
    "def arePermutations(stringA, stringB):\n",
    "    return sorted(stringA) == sorted(stringB)"
   ]
  },
  {
   "cell_type": "code",
   "execution_count": 3,
   "metadata": {
    "collapsed": true
   },
   "outputs": [],
   "source": [
    "## use character map\n",
    "def charMap(string):\n",
    "    return dict([(char, True) for char in string])\n",
    "def arePermutations(stringA, stringB):\n",
    "    return charMap(stringA) == charMap(stringB)"
   ]
  },
  {
   "cell_type": "code",
   "execution_count": 110,
   "metadata": {},
   "outputs": [
    {
     "name": "stdout",
     "output_type": "stream",
     "text": [
      "('abc', 'cba') => True\n",
      "('abc', 'abc   ') => False\n",
      "('abc', 'Abc') => False\n",
      "('acc', 'xyz') => False\n"
     ]
    }
   ],
   "source": [
    "for (stringA, stringB) in [\n",
    "    ('abc', 'cba'),\n",
    "    ('abc', 'abc   '),\n",
    "    ('abc', 'Abc'),\n",
    "    ('acc', 'xyz')\n",
    "]:\n",
    "    print(\"('{}', '{}') => {}\".format(stringA, stringB, arePermutations(stringA, stringB)))"
   ]
  },
  {
   "cell_type": "markdown",
   "metadata": {},
   "source": [
    "### 1.3 URLify"
   ]
  },
  {
   "cell_type": "code",
   "execution_count": 107,
   "metadata": {
    "collapsed": true
   },
   "outputs": [],
   "source": [
    "def URL(string, length):\n",
    "    return string[:length].replace(' ', '%20')"
   ]
  },
  {
   "cell_type": "code",
   "execution_count": 109,
   "metadata": {},
   "outputs": [
    {
     "name": "stdout",
     "output_type": "stream",
     "text": [
      "('Mr John Smith   ', 13) => 'Mr%20John%20Smith'\n",
      "('Somebody here  ', 13) => 'Somebody%20here'\n"
     ]
    }
   ],
   "source": [
    "for (string, length) in [('Mr John Smith   ', 13), ('Somebody here  ', 13)]:\n",
    "    print(\"('{}', {}) => '{}'\".format(string, length, URL(string, length)))"
   ]
  },
  {
   "cell_type": "markdown",
   "metadata": {
    "collapsed": true
   },
   "source": [
    "### 1.4 Palindrome Permutations"
   ]
  },
  {
   "cell_type": "code",
   "execution_count": 103,
   "metadata": {
    "collapsed": true
   },
   "outputs": [],
   "source": [
    "from collections import defaultdict\n",
    "\n",
    "def freqMap(string):\n",
    "    freq = defaultdict(int)\n",
    "    for char in string:\n",
    "        if char.strip() != '':\n",
    "            freq[char.lower()] += 1\n",
    "    return freq\n",
    "\n",
    "def isPalindromPermutation(string):\n",
    "    freq = freqMap(string)\n",
    "    return len([x for x in freq.values() if x == 1]) == 1 and max(freq.values()) <= 2"
   ]
  },
  {
   "cell_type": "code",
   "execution_count": 106,
   "metadata": {},
   "outputs": [
    {
     "name": "stdout",
     "output_type": "stream",
     "text": [
      "'Tact Coa' => True\n",
      "'abc ba' => True\n",
      "'xilin sun' => False\n",
      "'lucky li' => False\n"
     ]
    }
   ],
   "source": [
    "for string in [\n",
    "    'Tact Coa',\n",
    "    'abc ba',\n",
    "    'xilin sun',\n",
    "    'lucky li'\n",
    "]:\n",
    "    print(\"'{}' => {}\".format(string, isPalindromPermutation(string)))"
   ]
  },
  {
   "cell_type": "markdown",
   "metadata": {},
   "source": [
    "### 1.5 One Away"
   ]
  },
  {
   "cell_type": "code",
   "execution_count": 69,
   "metadata": {
    "collapsed": true
   },
   "outputs": [],
   "source": [
    "## solution 1: check by edit type: replace or insert\n",
    "def oneReplaceAway(s1, s2):\n",
    "    return sum([s1[i] != s2[i] for i in range(len(s1))]) < 2\n",
    "def oneInsertAway(s1, s2):\n",
    "    foundDifference = False\n",
    "    iA, iB = 0, 0\n",
    "    while iA < len(s1) and iB < len(s2):\n",
    "        if s1[iA] != s2[iB]:\n",
    "            if foundDifference:\n",
    "                return False\n",
    "            foundDifference = True\n",
    "            iA += 1\n",
    "            continue\n",
    "        iA += 1\n",
    "        iB += 1\n",
    "    return True\n",
    "\n",
    "def oneAway(s1, s2):\n",
    "    if abs(len(s1) - len(s2)) >= 2:\n",
    "        return False\n",
    "    if len(s1) == len(s2):\n",
    "        return oneReplaceAway(s1, s2)\n",
    "    if len(s1) > len(s2):\n",
    "        return oneInsertAway(s1, s2)\n",
    "    return oneInsertAway(s2, s1)"
   ]
  },
  {
   "cell_type": "code",
   "execution_count": 51,
   "metadata": {
    "collapsed": true
   },
   "outputs": [],
   "source": [
    "## don't check edit type\n",
    "def oneAway(s1, s2):\n",
    "    if abs(len(s1) - len(s2)) >= 2:\n",
    "        return False\n",
    "    if len(s1) < len(s2):\n",
    "        s1, s2 = s2, s1\n",
    "    foundDifference = False\n",
    "    iA, iB = 0, 0 \n",
    "    while iA < len(s1) and iB < len(s2):\n",
    "        if s1[iA] != s2[iB]:\n",
    "            if foundDifference:\n",
    "                return False\n",
    "            foundDifference = True\n",
    "            if len(s1) != len(s2):\n",
    "                iA += 1\n",
    "                continue\n",
    "        iA += 1\n",
    "        iB += 1\n",
    "    return True"
   ]
  },
  {
   "cell_type": "code",
   "execution_count": 70,
   "metadata": {},
   "outputs": [
    {
     "name": "stdout",
     "output_type": "stream",
     "text": [
      "'abc', 'abc' -> True\n",
      "'ple', 'pale' -> True\n",
      "'pale', 'ple' -> True\n",
      "'pale', 'bale' -> True\n",
      "'pale', 'bake' -> False\n"
     ]
    }
   ],
   "source": [
    "for (s1, s2) in [\n",
    "    ('abc', 'abc'),\n",
    "    ('ple', 'pale'),\n",
    "    ('pale', 'ple'),\n",
    "    ('pale', 'bale'),\n",
    "    ('pale', 'bake')\n",
    "]:\n",
    "    print(\"'{}', '{}' => {}\".format(s1, s2, oneAway(s1, s2)))"
   ]
  },
  {
   "cell_type": "markdown",
   "metadata": {},
   "source": [
    "### 1.6 String Compression"
   ]
  },
  {
   "cell_type": "code",
   "execution_count": 99,
   "metadata": {
    "collapsed": true
   },
   "outputs": [],
   "source": [
    "def compressed(string):\n",
    "    charList = []\n",
    "    i = 0\n",
    "    while i < len(string) - 1:\n",
    "        j = i + 1\n",
    "        while j < len(string):\n",
    "            if string[i] == string[j]:\n",
    "                j += 1\n",
    "            else:\n",
    "                break\n",
    "        charList.append(\"{}{}\".format(string[i], j - i))\n",
    "        i = j\n",
    "    compressedString = \"\".join(charList)\n",
    "    if len(compressedString) < len(string):\n",
    "        return compressedString\n",
    "    return string"
   ]
  },
  {
   "cell_type": "code",
   "execution_count": 121,
   "metadata": {
    "collapsed": true
   },
   "outputs": [],
   "source": [
    "## check in advance\n",
    "def compressedLen(string):\n",
    "    count = 1\n",
    "    for i in range(len(string) - 1):\n",
    "        if string[i+1] != string[i]:\n",
    "            count += 1\n",
    "    return count * 2\n",
    "\n",
    "def compressed(string):\n",
    "    if len(string) <= compressedLen(string):\n",
    "        return string\n",
    "    charList = []\n",
    "    i = 0\n",
    "    while i < len(string) - 1:\n",
    "        j = i + 1\n",
    "        while j < len(string):\n",
    "            if string[i] == string[j]:\n",
    "                j += 1\n",
    "            else:\n",
    "                break\n",
    "        charList.append(\"{}{}\".format(string[i], j - i))\n",
    "        i = j\n",
    "    return \"\".join(charList)"
   ]
  },
  {
   "cell_type": "code",
   "execution_count": 122,
   "metadata": {},
   "outputs": [
    {
     "name": "stdout",
     "output_type": "stream",
     "text": [
      "'aabcccccaaa' => 'a2b1c5a3'\n",
      "'abcdefg' => 'abcdefg'\n",
      "'' => ''\n",
      "'IkeoIIkkkkkeo' => 'IkeoIIkkkkkeo'\n",
      "'AbOOOOook' => 'AbOOOOook'\n"
     ]
    }
   ],
   "source": [
    "for string in [\n",
    "    'aabcccccaaa',\n",
    "    'abcdefg',\n",
    "    '',\n",
    "    'IkeoIIkkkkkeo',\n",
    "    'AbOOOOook'\n",
    "]:\n",
    "    print(\"'{}' => '{}'\".format(string, compressed(string)))"
   ]
  },
  {
   "cell_type": "markdown",
   "metadata": {},
   "source": [
    "### 1.7 Rotate Matrix\n",
    "Supposing clockwise"
   ]
  },
  {
   "cell_type": "code",
   "execution_count": 265,
   "metadata": {
    "collapsed": true
   },
   "outputs": [],
   "source": [
    "def rotated(matrix):\n",
    "    N = len(matrix)\n",
    "    nLayers = int(N / 2)\n",
    "    for i in range(nLayers):\n",
    "        for j in range(i, N - 1 -i):\n",
    "            matrix[i][j], matrix[j][N - i - 1], matrix[N - i - 1][N - j - 1], matrix[N - j - 1][i] = matrix[N - j - 1][i], matrix[i][j], matrix[j][N - i - 1], matrix[N - i - 1][N - j - 1]\n",
    "    return matrix"
   ]
  },
  {
   "cell_type": "code",
   "execution_count": 266,
   "metadata": {},
   "outputs": [
    {
     "name": "stdout",
     "output_type": "stream",
     "text": [
      "[[u'aa', u'kk', u'ac', u'oo'],\n",
      " [u'cc', u'oc', u'lo', u'ls'],\n",
      " [u'mf', u'wy', u'xr', u'wk'],\n",
      " [u'ss', u'fs', u'pz', u'dg']]\n",
      "=>\n",
      "[[u'ss', u'mf', u'cc', u'aa'],\n",
      " [u'fs', u'wy', u'oc', u'kk'],\n",
      " [u'pz', u'xr', u'lo', u'ac'],\n",
      " [u'dg', u'wk', u'ls', u'oo']]\n"
     ]
    }
   ],
   "source": [
    "from pprint import pprint\n",
    "\n",
    "matrix = [\n",
    "    ['aa', 'kk', 'ac', 'oo'],\n",
    "    ['cc', 'oc', 'lo', 'ls'],\n",
    "    ['mf', 'wy', 'xr', 'wk'],\n",
    "    ['ss', 'fs', 'pz', 'dg']\n",
    "]\n",
    "\n",
    "pprint(matrix)\n",
    "print(\"=>\")\n",
    "pprint(rotated(matrix))"
   ]
  },
  {
   "cell_type": "markdown",
   "metadata": {},
   "source": [
    "### 1.8 Zero Matrix"
   ]
  },
  {
   "cell_type": "code",
   "execution_count": 267,
   "metadata": {
    "collapsed": true
   },
   "outputs": [],
   "source": [
    "# duplicate the matrix\n",
    "# O(MN) space\n",
    "from copy import deepcopy\n",
    "\n",
    "def zeroMatrixIndex(matrix, (x, y)):\n",
    "    newMatrix = deepcopy(matrix)\n",
    "    N, M = len(matrix), len(matrix[0]) \n",
    "    for i in range(N):\n",
    "        newMatrix[i][y] = 0\n",
    "    for j in range(M):\n",
    "        newMatrix[x][j] = 0\n",
    "    return newMatrix\n",
    "\n",
    "def zeroMatrix(matrix):\n",
    "    newMatrix = deepcopy(matrix)\n",
    "    N, M = len(matrix), len(matrix[0])\n",
    "    for i in range(N):\n",
    "        for j in range(M):\n",
    "            if matrix[i][j] == 0:\n",
    "                newMatrix = zeroMatrixIndex(matrix, (i, j))\n",
    "    return newMatrix"
   ]
  },
  {
   "cell_type": "code",
   "execution_count": 321,
   "metadata": {
    "collapsed": true
   },
   "outputs": [],
   "source": [
    "# solve in-place:\n",
    "def zeroMatrix(matrix):\n",
    "    N, M = len(matrix), len(matrix[0])\n",
    "\n",
    "    # log if the first row and col contains zeros\n",
    "    # save in two variables\n",
    "    zeroInRow0 = 0 in matrix[0] \n",
    "    zeroInCol0 = 0 in [row[0] for row in matrix]\n",
    "\n",
    "    # log other zeroes and save in the first row and col\n",
    "    for i in range(1, N):\n",
    "        for j in range(1, M):\n",
    "            if matrix[i][j] == 0:\n",
    "                matrix[i][0] = 0\n",
    "                matrix[0][j] = 0\n",
    "\n",
    "    # assign rows\n",
    "    for i in range(1, N):\n",
    "        if matrix[i][0] == 0:\n",
    "            matrix[i] = [0 for x in range(M)]\n",
    "\n",
    "    # assign cols\n",
    "    for j in range(1, M):\n",
    "        if matrix[0][j] == 0:\n",
    "            for i in range(N):\n",
    "                matrix[i][j] = 0\n",
    "\n",
    "    return matrix"
   ]
  },
  {
   "cell_type": "code",
   "execution_count": 327,
   "metadata": {},
   "outputs": [
    {
     "name": "stdout",
     "output_type": "stream",
     "text": [
      "[[4, 1, 3], [1, 0, 5], [9, 10, 3], [8, 2, 3]]\n",
      "=>\n",
      "[[4, 0, 3], [0, 0, 0], [9, 0, 3], [8, 0, 3]]\n"
     ]
    }
   ],
   "source": [
    "matrix = [\n",
    "    [4, 1, 3],\n",
    "    [1, 0, 5],\n",
    "    [9, 10, 3],\n",
    "    [8, 2, 3]\n",
    "]\n",
    "\n",
    "from pprint import pprint\n",
    "pprint(matrix)\n",
    "print(\"=>\")\n",
    "pprint(zeroMatrix(matrix))"
   ]
  },
  {
   "cell_type": "markdown",
   "metadata": {},
   "source": [
    "### 1.9 String Rotation"
   ]
  },
  {
   "cell_type": "code",
   "execution_count": 261,
   "metadata": {
    "collapsed": true
   },
   "outputs": [],
   "source": [
    "def isSubstring(s1, s2):\n",
    "    return s1 in s2\n",
    "\n",
    "def isRotation(s1, s2):\n",
    "    return isSubstring(s1, s2 * 2)"
   ]
  },
  {
   "cell_type": "code",
   "execution_count": 264,
   "metadata": {},
   "outputs": [
    {
     "name": "stdout",
     "output_type": "stream",
     "text": [
      "('waterbottle', 'erbottlewat') => True\n",
      "('abc', 'bca') => True\n",
      "('adasf', 'asasdfaq') => False\n"
     ]
    }
   ],
   "source": [
    "for (s1, s2) in [\n",
    "    ('waterbottle','erbottlewat'),\n",
    "    ('abc', 'bca'),\n",
    "    ('adasf', 'asasdfaq')\n",
    "]:\n",
    "    print(\"('{}', '{}') => {}\".format(s1, s2, isRotation(s1, s2)))"
   ]
  }
 ],
 "metadata": {
  "kernelspec": {
   "display_name": "Python 2",
   "language": "python",
   "name": "python2"
  },
  "language_info": {
   "codemirror_mode": {
    "name": "ipython",
    "version": 2
   },
   "file_extension": ".py",
   "mimetype": "text/x-python",
   "name": "python",
   "nbconvert_exporter": "python",
   "pygments_lexer": "ipython2",
   "version": "2.7.14"
  }
 },
 "nbformat": 4,
 "nbformat_minor": 2
}
