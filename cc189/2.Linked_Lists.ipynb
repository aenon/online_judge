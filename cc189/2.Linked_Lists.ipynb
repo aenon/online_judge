{
 "cells": [
  {
   "cell_type": "markdown",
   "metadata": {},
   "source": [
    "# CC189 - Cracking the Coding Interview\n",
    "## Chapter 2 - Linked Lists"
   ]
  },
  {
   "cell_type": "code",
   "execution_count": 1,
   "metadata": {},
   "outputs": [],
   "source": [
    "from __future__ import print_function\n",
    "from __future__ import division\n",
    "from __future__ import absolute_import\n",
    "from __future__ import unicode_literals"
   ]
  },
  {
   "cell_type": "code",
   "execution_count": null,
   "metadata": {},
   "outputs": [],
   "source": [
    "### Implementation using Python list\n",
    "\n",
    "# class LinkedList:\n",
    "#     def __init__(self):\n",
    "#         self.items = []\n",
    "#     def add(self, data):\n",
    "#         self.items.appendAtEnd(data)\n",
    "#     def search(self, data):\n",
    "#         if data in self.items:\n",
    "#             return self.items.index(data)\n",
    "#     def remove(self, data):\n",
    "#         if data in self.items:\n",
    "#             i = self.items.index(data)\n",
    "#             self.items = self.items[:i] + self.items[i + 1:]"
   ]
  },
  {
   "cell_type": "markdown",
   "metadata": {},
   "source": [
    "### Implementation of Slingly Linked List"
   ]
  },
  {
   "cell_type": "code",
   "execution_count": 1,
   "metadata": {},
   "outputs": [],
   "source": [
    "class Node:\n",
    "    def __init__(self, data=None):\n",
    "        self.data = data\n",
    "        self.next = None\n",
    "        self.end = None\n",
    "    def traverse(self):\n",
    "        n = self\n",
    "        while n != None:\n",
    "            print(n.data)\n",
    "            n = n.next\n",
    "    def appendAtEnd(self, data):\n",
    "        if not self.data:\n",
    "            self.data = data\n",
    "        else:\n",
    "            n = self\n",
    "            while n.next != None:\n",
    "                n = n.next\n",
    "            n.next = Node(data)"
   ]
  },
  {
   "cell_type": "markdown",
   "metadata": {},
   "source": [
    "### Deleting a Node from a Slingly Linked List"
   ]
  },
  {
   "cell_type": "code",
   "execution_count": 2,
   "metadata": {},
   "outputs": [],
   "source": [
    "def delNode(node, d):\n",
    "    n = node\n",
    "    \n",
    "    # delete head\n",
    "    if n.data == d:\n",
    "        return head.next\n",
    "    \n",
    "    while n.next != None:\n",
    "        if n.next.data == d:\n",
    "            n.next = n.next.next\n",
    "            return node\n",
    "        n = n.next\n",
    "    return node"
   ]
  },
  {
   "cell_type": "code",
   "execution_count": 3,
   "metadata": {},
   "outputs": [
    {
     "name": "stdout",
     "output_type": "stream",
     "text": [
      "12\n",
      "13\n",
      "14\n",
      "15\n",
      "16\n",
      "17\n"
     ]
    }
   ],
   "source": [
    "node = Node(12)\n",
    "for i in range(13, 18):\n",
    "    node.appendAtEnd(i)\n",
    "node.traverse()"
   ]
  },
  {
   "cell_type": "code",
   "execution_count": 4,
   "metadata": {},
   "outputs": [
    {
     "name": "stdout",
     "output_type": "stream",
     "text": [
      "12\n",
      "13\n",
      "14\n",
      "16\n",
      "17\n"
     ]
    }
   ],
   "source": [
    "node = delNode(node, 15)\n",
    "node.traverse()"
   ]
  },
  {
   "cell_type": "markdown",
   "metadata": {},
   "source": [
    "### 2.1 Remove Dups"
   ]
  },
  {
   "cell_type": "code",
   "execution_count": 5,
   "metadata": {},
   "outputs": [],
   "source": [
    "from collections import defaultdict"
   ]
  },
  {
   "cell_type": "code",
   "execution_count": 6,
   "metadata": {},
   "outputs": [],
   "source": [
    "def removeDups(node):\n",
    "    n = node\n",
    "    previous = None\n",
    "    nodeMap = defaultdict(bool)\n",
    "    while n != None:\n",
    "        if nodeMap[n.data]:\n",
    "            previous.next = n.next\n",
    "        else:\n",
    "            nodeMap[n.data] = True\n",
    "            previous = n\n",
    "        n = n.next\n",
    "    return node"
   ]
  },
  {
   "cell_type": "code",
   "execution_count": 7,
   "metadata": {},
   "outputs": [
    {
     "name": "stdout",
     "output_type": "stream",
     "text": [
      "12\n",
      "11\n",
      "12\n"
     ]
    }
   ],
   "source": [
    "node = Node(12)\n",
    "for i in range(11, 13):\n",
    "    node.appendAtEnd(i)\n",
    "node.traverse()"
   ]
  },
  {
   "cell_type": "code",
   "execution_count": 8,
   "metadata": {},
   "outputs": [
    {
     "name": "stdout",
     "output_type": "stream",
     "text": [
      "12\n",
      "11\n"
     ]
    }
   ],
   "source": [
    "node = removeDups(node)\n",
    "\n",
    "node.traverse()"
   ]
  },
  {
   "cell_type": "markdown",
   "metadata": {},
   "source": [
    "### 2.2 Return kth to Last"
   ]
  },
  {
   "cell_type": "code",
   "execution_count": 9,
   "metadata": {},
   "outputs": [],
   "source": [
    "def kthToLast(node, k):\n",
    "    while k > 1:\n",
    "        node = node.next\n",
    "        k -= 1\n",
    "    return node"
   ]
  },
  {
   "cell_type": "code",
   "execution_count": 10,
   "metadata": {},
   "outputs": [
    {
     "name": "stdout",
     "output_type": "stream",
     "text": [
      "12\n",
      "11\n",
      "12\n",
      "13\n",
      "14\n",
      "15\n",
      "16\n"
     ]
    }
   ],
   "source": [
    "node = Node(12)\n",
    "for i in range(11, 17):\n",
    "    node.appendAtEnd(i)\n",
    "node.traverse()"
   ]
  },
  {
   "cell_type": "code",
   "execution_count": 11,
   "metadata": {},
   "outputs": [
    {
     "name": "stdout",
     "output_type": "stream",
     "text": [
      "12\n",
      "13\n",
      "14\n",
      "15\n",
      "16\n"
     ]
    }
   ],
   "source": [
    "kthToLast(node, 3).traverse()"
   ]
  },
  {
   "cell_type": "markdown",
   "metadata": {},
   "source": [
    "### 2.3 Delete Middle Node "
   ]
  },
  {
   "cell_type": "code",
   "execution_count": 12,
   "metadata": {},
   "outputs": [],
   "source": [
    "def deleteNode(n):\n",
    "    if n is None or n.next is None:\n",
    "        return False\n",
    "    n.data = n.next.data\n",
    "    n.next = n.next.next\n",
    "    return True"
   ]
  },
  {
   "cell_type": "code",
   "execution_count": 13,
   "metadata": {},
   "outputs": [
    {
     "name": "stdout",
     "output_type": "stream",
     "text": [
      "12\n",
      "11\n",
      "12\n",
      "13\n",
      "14\n",
      "15\n",
      "16\n"
     ]
    }
   ],
   "source": [
    "node = Node(12)\n",
    "for i in range(11, 17):\n",
    "    node.appendAtEnd(i)\n",
    "node.traverse()"
   ]
  },
  {
   "cell_type": "code",
   "execution_count": 14,
   "metadata": {},
   "outputs": [
    {
     "data": {
      "text/plain": [
       "13"
      ]
     },
     "execution_count": 14,
     "metadata": {},
     "output_type": "execute_result"
    }
   ],
   "source": [
    "node.next.next.next.data"
   ]
  },
  {
   "cell_type": "code",
   "execution_count": 15,
   "metadata": {},
   "outputs": [
    {
     "data": {
      "text/plain": [
       "True"
      ]
     },
     "execution_count": 15,
     "metadata": {},
     "output_type": "execute_result"
    }
   ],
   "source": [
    "deleteNode(node.next.next.next)"
   ]
  },
  {
   "cell_type": "code",
   "execution_count": 16,
   "metadata": {},
   "outputs": [
    {
     "name": "stdout",
     "output_type": "stream",
     "text": [
      "12\n",
      "11\n",
      "12\n",
      "14\n",
      "15\n",
      "16\n"
     ]
    }
   ],
   "source": [
    "node.traverse()"
   ]
  },
  {
   "cell_type": "markdown",
   "metadata": {},
   "source": [
    "### 2.4 Partition"
   ]
  },
  {
   "cell_type": "code",
   "execution_count": 30,
   "metadata": {},
   "outputs": [],
   "source": [
    "# store values in two lists and then merge them\n",
    "# time: O(n); space: O(n)\n",
    "def partition(node, x):\n",
    "    before, after = Node(), Node()\n",
    "    n = node\n",
    "    while n != None:\n",
    "        if n.data < x:\n",
    "            before.appendAtEnd(n.data)\n",
    "        else:\n",
    "            after.appendAtEnd(n.data)\n",
    "        n = n.next\n",
    "    return [before, after]"
   ]
  },
  {
   "cell_type": "code",
   "execution_count": 31,
   "metadata": {},
   "outputs": [
    {
     "name": "stdout",
     "output_type": "stream",
     "text": [
      "11\n",
      "12\n",
      "13\n",
      "14\n",
      "15\n",
      "16\n"
     ]
    }
   ],
   "source": [
    "x = 13\n",
    "node = Node()\n",
    "for i in range(11, 17):\n",
    "    node.appendAtEnd(i)\n",
    "node.traverse()"
   ]
  },
  {
   "cell_type": "code",
   "execution_count": 32,
   "metadata": {},
   "outputs": [],
   "source": [
    "before, after = partition(node, x)"
   ]
  },
  {
   "cell_type": "code",
   "execution_count": 33,
   "metadata": {},
   "outputs": [
    {
     "name": "stdout",
     "output_type": "stream",
     "text": [
      "11\n",
      "12\n"
     ]
    }
   ],
   "source": [
    "before.traverse()"
   ]
  },
  {
   "cell_type": "code",
   "execution_count": 34,
   "metadata": {},
   "outputs": [
    {
     "name": "stdout",
     "output_type": "stream",
     "text": [
      "13\n",
      "14\n",
      "15\n",
      "16\n"
     ]
    }
   ],
   "source": [
    "after.traverse()"
   ]
  },
  {
   "cell_type": "markdown",
   "metadata": {},
   "source": [
    "### 2.5 Sum Lists\n"
   ]
  },
  {
   "cell_type": "code",
   "execution_count": 53,
   "metadata": {},
   "outputs": [],
   "source": [
    "def sumLists(n1, n2):\n",
    "    n3 = Node()\n",
    "    flow = 0\n",
    "    while n1:\n",
    "        d1, d2 = n1.data, n2.data\n",
    "        d3 = (flow + d1 + d2) % 10\n",
    "        n3.appendAtEnd(d3)\n",
    "        flow = (d1 + d2) // 10\n",
    "        n1, n2 = n1.next, n2.next\n",
    "    return n3"
   ]
  },
  {
   "cell_type": "code",
   "execution_count": 54,
   "metadata": {},
   "outputs": [
    {
     "name": "stdout",
     "output_type": "stream",
     "text": [
      "7\n",
      "1\n",
      "6\n",
      "5\n",
      "9\n",
      "2\n"
     ]
    }
   ],
   "source": [
    "n1, n2 = Node(), Node()\n",
    "for digit in [7, 1, 6]:\n",
    "    n1.appendAtEnd(digit)\n",
    "n1.traverse()\n",
    "for digit in [5, 9, 2]:\n",
    "    n2.appendAtEnd(digit)\n",
    "n2.traverse()"
   ]
  },
  {
   "cell_type": "code",
   "execution_count": 55,
   "metadata": {},
   "outputs": [],
   "source": [
    "output = sumLists(n1, n2)\n",
    "\n",
    "output.traverse()"
   ]
  },
  {
   "cell_type": "markdown",
   "metadata": {},
   "source": [
    "### 2.6 Palindrome"
   ]
  },
  {
   "cell_type": "code",
   "execution_count": null,
   "metadata": {},
   "outputs": [],
   "source": []
  }
 ],
 "metadata": {
  "kernelspec": {
   "display_name": "Python 3",
   "language": "python",
   "name": "python3"
  },
  "language_info": {
   "codemirror_mode": {
    "name": "ipython",
    "version": 3
   },
   "file_extension": ".py",
   "mimetype": "text/x-python",
   "name": "python",
   "nbconvert_exporter": "python",
   "pygments_lexer": "ipython3",
   "version": "3.6.3"
  }
 },
 "nbformat": 4,
 "nbformat_minor": 2
}
