{
 "cells": [
  {
   "cell_type": "markdown",
   "metadata": {},
   "source": [
    "# CC189 - Cracking the Coding Interview\n",
    "## Chapter 4 Trees and Graphs"
   ]
  },
  {
   "cell_type": "markdown",
   "metadata": {},
   "source": [
    "### Binary Tree\n",
    "\n",
    "* In-order: left, current, right\n",
    "* Pre-order: current, left, right\n",
    "* Post-order: left, right, current\n",
    "* Insert node: insert value by comparing to the root and deciding which way to go\n",
    "\n",
    "### Search\n",
    "\n",
    "* DFS\n",
    "* BFS\n",
    "\n",
    "### Reference\n",
    "https://github.com/buy/cc150\n",
    "https://github.com/kdn251/interviews/tree/master/CrackingTheCodingInterview\n"
   ]
  },
  {
   "cell_type": "code",
   "execution_count": 1,
   "metadata": {
    "collapsed": true
   },
   "outputs": [],
   "source": [
    "# Tree with defaultdict\n",
    "# from collections import defaultdict\n",
    "\n",
    "# def tree():\n",
    "#     return defaultdict(tree)\n",
    "\n",
    "# users = tree()\n",
    "\n",
    "# users['cindy']['username'] = 'cindy.lxr'\n",
    "\n",
    "# def add(t, path):\n",
    "#     for node in path:\n",
    "#         t = t[node]\n",
    "\n",
    "# add(users, ['left', 'right'])"
   ]
  },
  {
   "cell_type": "markdown",
   "metadata": {},
   "source": [
    "### Implementation of a Tree Node"
   ]
  },
  {
   "cell_type": "code",
   "execution_count": 2,
   "metadata": {},
   "outputs": [],
   "source": [
    "from collections import defaultdict"
   ]
  },
  {
   "cell_type": "code",
   "execution_count": 3,
   "metadata": {},
   "outputs": [],
   "source": [
    "class Node:\n",
    "    def __init__(self,data):\n",
    "        self.data = data\n",
    "        self.children = defaultdict(Node)"
   ]
  },
  {
   "cell_type": "code",
   "execution_count": null,
   "metadata": {},
   "outputs": [],
   "source": []
  },
  {
   "cell_type": "markdown",
   "metadata": {},
   "source": [
    "### Implementation of a Binary Tree"
   ]
  },
  {
   "cell_type": "code",
   "execution_count": 12,
   "metadata": {},
   "outputs": [],
   "source": [
    "class Node:\n",
    "    def __init__(self, data):\n",
    "        self.data = data\n",
    "        self.left = None\n",
    "        self.right = None\n",
    "\n",
    "    def add_left(self, data):\n",
    "        self.left = Node(data)\n",
    "\n",
    "    def add_right(self, data):\n",
    "        self.right = Node(data)"
   ]
  },
  {
   "cell_type": "code",
   "execution_count": 16,
   "metadata": {},
   "outputs": [],
   "source": [
    "node1 = Node(3)\n",
    "\n",
    "node1.add_left(2)\n",
    "node1.add_right(5)\n",
    "\n",
    "node1.left.add_left(1)"
   ]
  },
  {
   "cell_type": "markdown",
   "metadata": {},
   "source": [
    "### Binary Tree with defaultdict"
   ]
  },
  {
   "cell_type": "code",
   "execution_count": 109,
   "metadata": {},
   "outputs": [],
   "source": [
    "def inOrderTraverse(n):\n",
    "    if BT[n]:\n",
    "        if BT[n]['left']:\n",
    "            inOrderTraverse(BT[n]['left'])\n",
    "        print(n)\n",
    "        if BT[n]['right']:\n",
    "            inOrderTraverse(BT[n]['right'])"
   ]
  },
  {
   "cell_type": "code",
   "execution_count": 110,
   "metadata": {},
   "outputs": [],
   "source": [
    "BT = defaultdict(lambda: {'left': None, 'right': None})"
   ]
  },
  {
   "cell_type": "code",
   "execution_count": 111,
   "metadata": {},
   "outputs": [],
   "source": [
    "BT[10]['left'] = 5\n",
    "BT[5]['left'] = 3\n",
    "BT[5]['right'] = 7\n",
    "BT[10]['right'] = 20\n",
    "BT[20]['right'] = 30"
   ]
  },
  {
   "cell_type": "code",
   "execution_count": 112,
   "metadata": {},
   "outputs": [
    {
     "name": "stdout",
     "output_type": "stream",
     "text": [
      "3\n",
      "5\n",
      "7\n",
      "10\n",
      "20\n",
      "30\n"
     ]
    }
   ],
   "source": [
    "inOrderTraverse(10)"
   ]
  },
  {
   "cell_type": "code",
   "execution_count": 113,
   "metadata": {},
   "outputs": [],
   "source": [
    "def preOrderTraverse(n):\n",
    "    if BT[n]:\n",
    "        print(n)\n",
    "        if BT[n]['left']:\n",
    "            preOrderTraverse(BT[n]['left'])\n",
    "        if BT[n]['right']:\n",
    "            preOrderTraverse(BT[n]['right'])"
   ]
  },
  {
   "cell_type": "code",
   "execution_count": 114,
   "metadata": {},
   "outputs": [
    {
     "name": "stdout",
     "output_type": "stream",
     "text": [
      "10\n",
      "5\n",
      "3\n",
      "7\n",
      "20\n",
      "30\n"
     ]
    }
   ],
   "source": [
    "preOrderTraverse(10)"
   ]
  },
  {
   "cell_type": "code",
   "execution_count": null,
   "metadata": {},
   "outputs": [],
   "source": []
  },
  {
   "cell_type": "markdown",
   "metadata": {},
   "source": [
    "### Binary Tree Traversal"
   ]
  },
  {
   "cell_type": "code",
   "execution_count": 17,
   "metadata": {},
   "outputs": [],
   "source": [
    "def inOrderTraverse(node):\n",
    "    if node:\n",
    "        inOrderTraverse(node.left)\n",
    "        print(node.data)\n",
    "        inOrderTraverse(node.right)"
   ]
  },
  {
   "cell_type": "code",
   "execution_count": 18,
   "metadata": {},
   "outputs": [
    {
     "name": "stdout",
     "output_type": "stream",
     "text": [
      "1\n",
      "2\n",
      "3\n",
      "5\n"
     ]
    }
   ],
   "source": [
    "inOrderTraverse(node1)"
   ]
  },
  {
   "cell_type": "code",
   "execution_count": 19,
   "metadata": {},
   "outputs": [],
   "source": [
    "def preOrderTraverse(node):\n",
    "    if node:\n",
    "        print(node.data)\n",
    "        preOrderTraverse(node.left)\n",
    "        preOrderTraverse(node.right)"
   ]
  },
  {
   "cell_type": "code",
   "execution_count": 20,
   "metadata": {},
   "outputs": [
    {
     "name": "stdout",
     "output_type": "stream",
     "text": [
      "3\n",
      "2\n",
      "1\n",
      "5\n"
     ]
    }
   ],
   "source": [
    "preOrderTraverse(node1)"
   ]
  },
  {
   "cell_type": "code",
   "execution_count": 21,
   "metadata": {},
   "outputs": [],
   "source": [
    "def postOrderTraverse(node):\n",
    "    if node:\n",
    "        postOrderTraverse(node.left)\n",
    "        postOrderTraverse(node.right)\n",
    "        print(node.data)"
   ]
  },
  {
   "cell_type": "code",
   "execution_count": 22,
   "metadata": {},
   "outputs": [
    {
     "name": "stdout",
     "output_type": "stream",
     "text": [
      "1\n",
      "2\n",
      "5\n",
      "3\n"
     ]
    }
   ],
   "source": [
    "postOrderTraverse(node1)"
   ]
  },
  {
   "cell_type": "markdown",
   "metadata": {},
   "source": [
    "### Implementation of an Adjacency List"
   ]
  },
  {
   "cell_type": "code",
   "execution_count": 23,
   "metadata": {},
   "outputs": [],
   "source": [
    "class Node:\n",
    "    def __int__(self, data):\n",
    "        self.data = data\n",
    "        self.children = defaultdict(Node)\n",
    "\n",
    "class Graph:\n",
    "    def __int__(self):\n",
    "        self.nodes = []\n",
    "    def addNode(self, node):\n",
    "        self.nodes.append(node)"
   ]
  },
  {
   "cell_type": "markdown",
   "metadata": {},
   "source": [
    "### Implementation of an Adjacency Matrix"
   ]
  },
  {
   "cell_type": "code",
   "execution_count": 40,
   "metadata": {},
   "outputs": [],
   "source": [
    "adjacencyMatrix = defaultdict(lambda: defaultdict(bool))"
   ]
  },
  {
   "cell_type": "code",
   "execution_count": 41,
   "metadata": {},
   "outputs": [],
   "source": [
    "for (k, v) in [\n",
    "    (1, 3),\n",
    "    (2, 3),\n",
    "    (1, 6),\n",
    "    (6, 2)\n",
    "]:\n",
    "    adjacencyMatrix[k][v] = True\n",
    "    adjacencyMatrix[v][k] = True"
   ]
  },
  {
   "cell_type": "code",
   "execution_count": 42,
   "metadata": {},
   "outputs": [
    {
     "data": {
      "text/plain": [
       "defaultdict(bool, {3: True, 6: True})"
      ]
     },
     "execution_count": 42,
     "metadata": {},
     "output_type": "execute_result"
    }
   ],
   "source": [
    "adjacencyMatrix[2]"
   ]
  },
  {
   "cell_type": "code",
   "execution_count": null,
   "metadata": {},
   "outputs": [],
   "source": []
  },
  {
   "cell_type": "code",
   "execution_count": 43,
   "metadata": {},
   "outputs": [
    {
     "data": {
      "text/plain": [
       "False"
      ]
     },
     "execution_count": 43,
     "metadata": {},
     "output_type": "execute_result"
    }
   ],
   "source": [
    "adjacencyMatrix[0][1]"
   ]
  },
  {
   "cell_type": "markdown",
   "metadata": {},
   "source": []
  },
  {
   "cell_type": "markdown",
   "metadata": {},
   "source": [
    "### 4.1 Route Between Nodes"
   ]
  },
  {
   "cell_type": "code",
   "execution_count": 55,
   "metadata": {},
   "outputs": [],
   "source": [
    "from collections import deque"
   ]
  },
  {
   "cell_type": "code",
   "execution_count": 64,
   "metadata": {},
   "outputs": [],
   "source": [
    "def hasRoute(adjacencyMatrix, a, b):\n",
    "    visited = defaultdict(bool)\n",
    "    visited[a] = True\n",
    "    q = deque()\n",
    "    q.append(a)\n",
    "    while len(q) > 0:\n",
    "        r = q.popleft()\n",
    "        if r == b:\n",
    "            return True\n",
    "        for n in adjacencyMatrix[r].keys():\n",
    "            if not visited[n]:\n",
    "                visited[n] = True\n",
    "                q.append(n)\n",
    "    return False"
   ]
  },
  {
   "cell_type": "code",
   "execution_count": 77,
   "metadata": {},
   "outputs": [],
   "source": [
    "adjacencyMatrix = defaultdict(lambda: defaultdict(bool))\n",
    "for (k, v) in [\n",
    "    (0, 1),\n",
    "    (0, 5),\n",
    "    (0, 4),\n",
    "    (1, 3),\n",
    "    (1, 4),\n",
    "    (2, 1),\n",
    "    (3, 2),\n",
    "    (3, 4)\n",
    "]:\n",
    "    adjacencyMatrix[k][v] = True"
   ]
  },
  {
   "cell_type": "markdown",
   "metadata": {},
   "source": [
    "```\n",
    "5 <-- 0 --> 1 <-- 2\n",
    "         ↘  ↓  ↘  ↑\n",
    "            4 <-- 3\n",
    "```"
   ]
  },
  {
   "cell_type": "code",
   "execution_count": 82,
   "metadata": {},
   "outputs": [
    {
     "name": "stdout",
     "output_type": "stream",
     "text": [
      "(2, 5) => False\n",
      "(0, 5) => True\n",
      "(5, 0) => False\n",
      "(4, 5) => False\n",
      "(0, 3) => True\n",
      "(3, 0) => False\n"
     ]
    }
   ],
   "source": [
    "for (a, b) in [\n",
    "    (2, 5),\n",
    "    (0, 5),\n",
    "    (5, 0),\n",
    "    (4, 5),\n",
    "    (0, 3),\n",
    "    (3, 0)\n",
    "]:\n",
    "    print(\"({}, {}) => {}\".format(a, b, hasRoute(adjacencyMatrix, a, b)))"
   ]
  },
  {
   "cell_type": "markdown",
   "metadata": {},
   "source": [
    "### 4.2 Minimal Tree"
   ]
  },
  {
   "cell_type": "code",
   "execution_count": 119,
   "metadata": {},
   "outputs": [],
   "source": [
    "mylist = [n for n in range(4, 17)]"
   ]
  },
  {
   "cell_type": "code",
   "execution_count": 120,
   "metadata": {},
   "outputs": [
    {
     "data": {
      "text/plain": [
       "[4, 5, 6, 7, 8, 9, 10, 11, 12, 13, 14, 15, 16]"
      ]
     },
     "execution_count": 120,
     "metadata": {},
     "output_type": "execute_result"
    }
   ],
   "source": [
    "mylist"
   ]
  },
  {
   "cell_type": "code",
   "execution_count": 121,
   "metadata": {},
   "outputs": [
    {
     "ename": "SyntaxError",
     "evalue": "unexpected EOF while parsing (<ipython-input-121-8a804d3281cf>, line 2)",
     "output_type": "error",
     "traceback": [
      "\u001b[0;36m  File \u001b[0;32m\"<ipython-input-121-8a804d3281cf>\"\u001b[0;36m, line \u001b[0;32m2\u001b[0m\n\u001b[0;31m    def createMinBST(mylist, start, end):\u001b[0m\n\u001b[0m                                         ^\u001b[0m\n\u001b[0;31mSyntaxError\u001b[0m\u001b[0;31m:\u001b[0m unexpected EOF while parsing\n"
     ]
    }
   ],
   "source": [
    "def minBST(mylist):\n",
    "    def createMinBST(mylist, start, end):\n",
    "        if end < start:\n",
    "            return None\n",
    "        mid = (start + end) // 2\n",
    "        "
   ]
  },
  {
   "cell_type": "code",
   "execution_count": 123,
   "metadata": {},
   "outputs": [
    {
     "data": {
      "text/plain": [
       "1"
      ]
     },
     "execution_count": 123,
     "metadata": {},
     "output_type": "execute_result"
    }
   ],
   "source": [
    "3//2"
   ]
  },
  {
   "cell_type": "markdown",
   "metadata": {},
   "source": [
    "### 4.3 List of Depths"
   ]
  },
  {
   "cell_type": "markdown",
   "metadata": {},
   "source": [
    "### 4.4 Check Balanced"
   ]
  },
  {
   "cell_type": "markdown",
   "metadata": {},
   "source": [
    "#### Define a binary tree"
   ]
  },
  {
   "cell_type": "code",
   "execution_count": 49,
   "metadata": {
    "collapsed": true
   },
   "outputs": [],
   "source": [
    "class Node(object):\n",
    "    def __init__(self, data=None):\n",
    "        self.data = data\n",
    "        self.left = None\n",
    "        self.right = None\n",
    "\n",
    "    def add_left(self, data):\n",
    "        self.left = Node(data)\n",
    "        \n",
    "    def add_right(self, data):\n",
    "        self.right = Node(data)"
   ]
  },
  {
   "cell_type": "code",
   "execution_count": 46,
   "metadata": {
    "collapsed": true
   },
   "outputs": [],
   "source": [
    "def getHeight(node):\n",
    "    if node is None:\n",
    "        return 0\n",
    "    return 1 + max(getHeight(node.left), getHeight(node.right))\n",
    "\n",
    "def isBalanced(node):\n",
    "    if node is None:\n",
    "        return True\n",
    "    if abs(getHeight(node.left) - getHeight(node.right)) > 1:\n",
    "        return False\n",
    "    return isBalanced(node.left) and isBalanced(node.right)"
   ]
  },
  {
   "cell_type": "code",
   "execution_count": 54,
   "metadata": {
    "collapsed": true
   },
   "outputs": [],
   "source": [
    "root = Node('root')\n",
    "root.left = Node(\"left\")\n",
    "root.right = Node(\"right\")\n",
    "root.left.left = Node(\"left 2\")\n",
    "root.left.right = Node(\"left-right\")"
   ]
  },
  {
   "cell_type": "code",
   "execution_count": 55,
   "metadata": {},
   "outputs": [
    {
     "data": {
      "text/plain": [
       "3"
      ]
     },
     "execution_count": 55,
     "metadata": {},
     "output_type": "execute_result"
    }
   ],
   "source": [
    "getHeight(root)"
   ]
  },
  {
   "cell_type": "code",
   "execution_count": 56,
   "metadata": {},
   "outputs": [
    {
     "data": {
      "text/plain": [
       "True"
      ]
     },
     "execution_count": 56,
     "metadata": {},
     "output_type": "execute_result"
    }
   ],
   "source": [
    "isBalanced(root)"
   ]
  },
  {
   "cell_type": "markdown",
   "metadata": {
    "collapsed": true
   },
   "source": [
    "### Kr Tree"
   ]
  },
  {
   "cell_type": "code",
   "execution_count": 1,
   "metadata": {},
   "outputs": [],
   "source": [
    "inputList = [[1,4], [1,5], [2,5], [3,6], [6,7]]"
   ]
  },
  {
   "cell_type": "code",
   "execution_count": 5,
   "metadata": {},
   "outputs": [],
   "source": [
    "class Tree:\n",
    "    def __init__(self, root=None):\n",
    "        self.nodes = [root]\n",
    "        \n",
    "class Node:\n",
    "    def __init__(self, data=None):\n",
    "        self.data = data\n",
    "        self.left = None\n",
    "        self.right = None\n",
    "\n",
    "    def add_left(self, data):\n",
    "        self.left = Node(data)\n",
    "\n",
    "    def add_right(self, data):\n",
    "        self.right = Node(data)"
   ]
  },
  {
   "cell_type": "code",
   "execution_count": 6,
   "metadata": {},
   "outputs": [],
   "source": [
    "myTree = Tree()"
   ]
  },
  {
   "cell_type": "code",
   "execution_count": 25,
   "metadata": {},
   "outputs": [],
   "source": [
    "def Node(data=None):\n",
    "    return {\n",
    "        \"data\": data,\n",
    "        \"children\": defaultdict(Node)\n",
    "    }"
   ]
  },
  {
   "cell_type": "code",
   "execution_count": 26,
   "metadata": {},
   "outputs": [],
   "source": [
    "myNode = Node(3)"
   ]
  },
  {
   "cell_type": "code",
   "execution_count": 29,
   "metadata": {},
   "outputs": [],
   "source": [
    "myNode['children'][1] = 5"
   ]
  },
  {
   "cell_type": "code",
   "execution_count": null,
   "metadata": {},
   "outputs": [],
   "source": []
  },
  {
   "cell_type": "code",
   "execution_count": null,
   "metadata": {},
   "outputs": [],
   "source": []
  },
  {
   "cell_type": "code",
   "execution_count": 17,
   "metadata": {},
   "outputs": [],
   "source": [
    "myTree = Tree()"
   ]
  },
  {
   "cell_type": "code",
   "execution_count": 18,
   "metadata": {},
   "outputs": [
    {
     "data": {
      "text/plain": [
       "defaultdict(<function __main__.Tree>, {})"
      ]
     },
     "execution_count": 18,
     "metadata": {},
     "output_type": "execute_result"
    }
   ],
   "source": []
  },
  {
   "cell_type": "code",
   "execution_count": null,
   "metadata": {},
   "outputs": [],
   "source": []
  },
  {
   "cell_type": "code",
   "execution_count": 8,
   "metadata": {},
   "outputs": [
    {
     "data": {
      "text/plain": [
       "{1: 5, 2: 5, 3: 6, 6: 7}"
      ]
     },
     "execution_count": 8,
     "metadata": {},
     "output_type": "execute_result"
    }
   ],
   "source": [
    "inputDict"
   ]
  },
  {
   "cell_type": "code",
   "execution_count": null,
   "metadata": {},
   "outputs": [],
   "source": []
  }
 ],
 "metadata": {
  "kernelspec": {
   "display_name": "Python 3",
   "language": "python",
   "name": "python3"
  },
  "language_info": {
   "codemirror_mode": {
    "name": "ipython",
    "version": 3
   },
   "file_extension": ".py",
   "mimetype": "text/x-python",
   "name": "python",
   "nbconvert_exporter": "python",
   "pygments_lexer": "ipython3",
   "version": "3.6.3"
  }
 },
 "nbformat": 4,
 "nbformat_minor": 1
}
