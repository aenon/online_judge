{
 "cells": [
  {
   "cell_type": "markdown",
   "metadata": {},
   "source": [
    "# CC189 - Cracking the Coding Interview\n",
    "## Chapter 4 Trees and Graphs"
   ]
  },
  {
   "cell_type": "markdown",
   "metadata": {},
   "source": [
    "Notes \n",
    "\n",
    "Not all binary trees are binary search trees\n",
    "\n",
    "### Binary\n",
    "\n",
    "* In-order: left, current, right\n",
    "* Pre-order: current, left, right\n",
    "* Post-order: left, right, current\n",
    "* Insert node: insert value by comparing to the root and deciding which way to go\n",
    "\n",
    "### Graph\n",
    "\n",
    "* DFS\n",
    "* BFS\n",
    "\n",
    "### Reference\n",
    "https://github.com/buy/cc150\n",
    "https://github.com/kdn251/interviews/tree/master/CrackingTheCodingInterview\n"
   ]
  },
  {
   "cell_type": "code",
   "execution_count": 1,
   "metadata": {
    "collapsed": true
   },
   "outputs": [],
   "source": [
    "# Tree with defaultdict\n",
    "# from collections import defaultdict\n",
    "\n",
    "# def tree():\n",
    "#     return defaultdict(tree)\n",
    "\n",
    "# users = tree()\n",
    "\n",
    "# users['cindy']['username'] = 'cindy.lxr'\n",
    "\n",
    "# def add(t, path):\n",
    "#     for node in path:\n",
    "#         t = t[node]\n",
    "\n",
    "# add(users, ['left', 'right'])"
   ]
  },
  {
   "cell_type": "markdown",
   "metadata": {},
   "source": [
    "### 4.1 Route Between Nodes"
   ]
  },
  {
   "cell_type": "code",
   "execution_count": 57,
   "metadata": {
    "collapsed": true
   },
   "outputs": [],
   "source": [
    "class Node(object):\n",
    "    def __init__(self, data=None):\n",
    "        self.data = data\n",
    "        self.next=[]\n",
    "\n",
    "    def add_next(self, data):\n",
    "        self.next.append(Node(data))"
   ]
  },
  {
   "cell_type": "code",
   "execution_count": null,
   "metadata": {
    "collapsed": true
   },
   "outputs": [],
   "source": []
  },
  {
   "cell_type": "markdown",
   "metadata": {},
   "source": [
    "### 4.4 Check Balanced"
   ]
  },
  {
   "cell_type": "markdown",
   "metadata": {},
   "source": [
    "#### Define a binary tree"
   ]
  },
  {
   "cell_type": "code",
   "execution_count": 49,
   "metadata": {
    "collapsed": true
   },
   "outputs": [],
   "source": [
    "class Node(object):\n",
    "    def __init__(self, data=None):\n",
    "        self.data = data\n",
    "        self.left = None\n",
    "        self.right = None\n",
    "\n",
    "    def add_left(self, data):\n",
    "        self.left = Node(data)\n",
    "        \n",
    "    def add_right(self, data):\n",
    "        self.right = Node(data)"
   ]
  },
  {
   "cell_type": "code",
   "execution_count": 46,
   "metadata": {
    "collapsed": true
   },
   "outputs": [],
   "source": [
    "def getHeight(node):\n",
    "    if node is None:\n",
    "        return 0\n",
    "    return 1 + max(getHeight(node.left), getHeight(node.right))\n",
    "\n",
    "def isBalanced(node):\n",
    "    if node is None:\n",
    "        return True\n",
    "    if abs(getHeight(node.left) - getHeight(node.right)) > 1:\n",
    "        return False\n",
    "    return isBalanced(node.left) and isBalanced(node.right)"
   ]
  },
  {
   "cell_type": "code",
   "execution_count": 54,
   "metadata": {
    "collapsed": true
   },
   "outputs": [],
   "source": [
    "root = Node('root')\n",
    "root.left = Node(\"left\")\n",
    "root.right = Node(\"right\")\n",
    "root.left.left = Node(\"left 2\")\n",
    "root.left.right = Node(\"left-right\")"
   ]
  },
  {
   "cell_type": "code",
   "execution_count": 55,
   "metadata": {},
   "outputs": [
    {
     "data": {
      "text/plain": [
       "3"
      ]
     },
     "execution_count": 55,
     "metadata": {},
     "output_type": "execute_result"
    }
   ],
   "source": [
    "getHeight(root)"
   ]
  },
  {
   "cell_type": "code",
   "execution_count": 56,
   "metadata": {},
   "outputs": [
    {
     "data": {
      "text/plain": [
       "True"
      ]
     },
     "execution_count": 56,
     "metadata": {},
     "output_type": "execute_result"
    }
   ],
   "source": [
    "isBalanced(root)"
   ]
  },
  {
   "cell_type": "code",
   "execution_count": null,
   "metadata": {
    "collapsed": true
   },
   "outputs": [],
   "source": []
  }
 ],
 "metadata": {
  "kernelspec": {
   "display_name": "Python 2",
   "language": "python",
   "name": "python2"
  },
  "language_info": {
   "codemirror_mode": {
    "name": "ipython",
    "version": 2
   },
   "file_extension": ".py",
   "mimetype": "text/x-python",
   "name": "python",
   "nbconvert_exporter": "python",
   "pygments_lexer": "ipython2",
   "version": "2.7.14"
  }
 },
 "nbformat": 4,
 "nbformat_minor": 1
}
