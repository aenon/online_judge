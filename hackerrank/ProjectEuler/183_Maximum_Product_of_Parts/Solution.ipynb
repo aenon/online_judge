{
 "cells": [
  {
   "cell_type": "code",
   "execution_count": 1,
   "metadata": {
    "collapsed": true
   },
   "outputs": [],
   "source": [
    "import math\n",
    "e = math.e"
   ]
  },
  {
   "cell_type": "code",
   "execution_count": 2,
   "metadata": {
    "collapsed": true
   },
   "outputs": [],
   "source": [
    "def gcd(a, b):\n",
    "  while b:\n",
    "    a, b = b, a % b\n",
    "  return a"
   ]
  },
  {
   "cell_type": "code",
   "execution_count": 3,
   "metadata": {
    "collapsed": true
   },
   "outputs": [],
   "source": [
    "def reduce_denom(nom, denom):\n",
    "  return denom / gcd(nom, denom)"
   ]
  },
  {
   "cell_type": "code",
   "execution_count": 4,
   "metadata": {
    "collapsed": true
   },
   "outputs": [],
   "source": [
    "def is_terminating(denom):\n",
    "  while denom % 2 == 0:\n",
    "    denom /= 2\n",
    "  while denom % 5 == 0:\n",
    "    denom /= 5\n",
    "  return denom == 1"
   ]
  },
  {
   "cell_type": "code",
   "execution_count": 5,
   "metadata": {
    "collapsed": true
   },
   "outputs": [],
   "source": [
    "def get_k(N):\n",
    "  return int(round(N/e))"
   ]
  },
  {
   "cell_type": "code",
   "execution_count": 7,
   "metadata": {
    "collapsed": true
   },
   "outputs": [],
   "source": [
    "def n_is_t(N):\n",
    "    k = get_k(N)\n",
    "    return is_terminating(reduce_denom(N,k))"
   ]
  },
  {
   "cell_type": "code",
   "execution_count": 9,
   "metadata": {},
   "outputs": [
    {
     "name": "stdout",
     "output_type": "stream",
     "text": [
      "2\n",
      "3\n",
      "0\n",
      "5\n",
      "-5\n"
     ]
    }
   ],
   "source": [
    "q = int(raw_input().strip())\n",
    "for i in xrange(q):\n",
    "  n = int(raw_input().strip())\n",
    "  sumn = 0\n",
    "  for j in range(5, n + 1):\n",
    "    if n_is_t(j):\n",
    "      sumn -= j\n",
    "    else:\n",
    "      sumn += j\n",
    "  print(sumn)"
   ]
  },
  {
   "cell_type": "code",
   "execution_count": 11,
   "metadata": {},
   "outputs": [
    {
     "data": {
      "text/plain": [
       "True"
      ]
     },
     "execution_count": 11,
     "metadata": {},
     "output_type": "execute_result"
    }
   ],
   "source": [
    "n_is_t(11)"
   ]
  },
  {
   "cell_type": "code",
   "execution_count": null,
   "metadata": {
    "collapsed": true
   },
   "outputs": [],
   "source": []
  }
 ],
 "metadata": {
  "kernelspec": {
   "display_name": "root",
   "language": "python",
   "name": "root"
  },
  "language_info": {
   "codemirror_mode": {
    "name": "ipython",
    "version": 2
   },
   "file_extension": ".py",
   "mimetype": "text/x-python",
   "name": "python",
   "nbconvert_exporter": "python",
   "pygments_lexer": "ipython2",
   "version": "2.7.13"
  }
 },
 "nbformat": 4,
 "nbformat_minor": 2
}
