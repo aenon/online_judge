{
 "cells": [
  {
   "cell_type": "markdown",
   "metadata": {},
   "source": [
    "# Cracking the Coding Interview - 4 Trees and Graphs"
   ]
  },
  {
   "cell_type": "markdown",
   "metadata": {},
   "source": [
    "## Tree"
   ]
  },
  {
   "cell_type": "markdown",
   "metadata": {},
   "source": [
    "### Binary Tree"
   ]
  },
  {
   "cell_type": "code",
   "execution_count": 9,
   "metadata": {
    "collapsed": true
   },
   "outputs": [],
   "source": [
    "var Node = val => {\n",
    "    let value = val\n",
    "    let left = null\n",
    "    let right = null\n",
    "    const getValue = () => value\n",
    "    const setValue = newVal => {value = newVal}\n",
    "    const getLeft = () => left\n",
    "    const getRight = () => right\n",
    "    const setLeft = Node => {left = Node}\n",
    "    const setRight = Node => {right = Node}\n",
    "    return{getValue, setValue, getLeft, getRight, setLeft, setRight}\n",
    "}"
   ]
  },
  {
   "cell_type": "markdown",
   "metadata": {},
   "source": [
    "#### Traversal"
   ]
  },
  {
   "cell_type": "code",
   "execution_count": 10,
   "metadata": {
    "collapsed": true
   },
   "outputs": [],
   "source": [
    "var InOT = node => {\n",
    "    if (node) {\n",
    "        InOT(node.getLeft())\n",
    "        console.log(node.getValue())\n",
    "        InOT(node.getRight())\n",
    "    }\n",
    "}"
   ]
  },
  {
   "cell_type": "code",
   "execution_count": 11,
   "metadata": {
    "collapsed": true
   },
   "outputs": [],
   "source": [
    "var PreOT = node => {\n",
    "    if (node) {\n",
    "        console.log(node.getValue())\n",
    "        PreOT(node.getLeft())\n",
    "        PreOT(node.getRight())\n",
    "    }\n",
    "}"
   ]
  },
  {
   "cell_type": "code",
   "execution_count": 12,
   "metadata": {
    "collapsed": true
   },
   "outputs": [],
   "source": [
    "var PostOT = node => {\n",
    "    if (node) {\n",
    "        PostOT(node.getLeft())\n",
    "        PostOT(node.getRight())\n",
    "        console.log(node.getValue())\n",
    "    }\n",
    "}"
   ]
  },
  {
   "cell_type": "code",
   "execution_count": 13,
   "metadata": {
    "collapsed": true
   },
   "outputs": [],
   "source": [
    "var myNode = Node(10)\n",
    "myNode.setLeft(Node(5))\n",
    "myNode.getLeft().setLeft(Node(3))\n",
    "myNode.getLeft().setRight(Node(7))\n",
    "myNode.setRight(Node(20))"
   ]
  },
  {
   "cell_type": "code",
   "execution_count": 14,
   "metadata": {},
   "outputs": [
    {
     "name": "stdout",
     "output_type": "stream",
     "text": [
      "3\n",
      "5\n",
      "7\n",
      "10\n",
      "20\n"
     ]
    }
   ],
   "source": [
    "InOT(myNode)"
   ]
  },
  {
   "cell_type": "markdown",
   "metadata": {},
   "source": [
    "## Graph"
   ]
  },
  {
   "cell_type": "markdown",
   "metadata": {},
   "source": [
    "### Adjacency List"
   ]
  },
  {
   "cell_type": "code",
   "execution_count": null,
   "metadata": {
    "collapsed": true
   },
   "outputs": [],
   "source": [
    "var Node = val => {\n",
    "    let value = val\n",
    "    let children = []\n",
    "    const getValue = () => value\n",
    "    const getChildren = () => children\n",
    "    const setValue = newVal => {value = newVal}\n",
    "    const addChild = childNode => {children.push(childNode)}\n",
    "    return {getValue, getChildren, setValue, addChild}\n",
    "}\n",
    "\n",
    "var Graph = () => {\n",
    "    let nodes = []\n",
    "    const getNodes = () => nodes\n",
    "    const addNode = node => {nodes.push(node)}\n",
    "    return {getNodes, addNode}\n",
    "}"
   ]
  },
  {
   "cell_type": "markdown",
   "metadata": {},
   "source": [
    "### Adjacency Matrix"
   ]
  },
  {
   "cell_type": "code",
   "execution_count": 101,
   "metadata": {
    "collapsed": true
   },
   "outputs": [],
   "source": [
    "var AMatrix = () => {\n",
    "    let matrix = new Map()\n",
    "    const set = (fromNode, toNode) => {\n",
    "        if (!matrix.get(fromNode)){\n",
    "            matrix.set(fromNode, new Map())\n",
    "        }\n",
    "        matrix.get(fromNode).set(toNode, true)\n",
    "    }\n",
    "    const get = (fromNode, toNode) => {\n",
    "        if (matrix.get(fromNode)){\n",
    "            if (matrix.get(fromNode).get(toNode)){\n",
    "                return true\n",
    "            }\n",
    "        }\n",
    "        return false\n",
    "    }\n",
    "    const keys = () => matrix.keys()\n",
    "    const keysFor = fromNode => {\n",
    "        if (matrix.get(fromNode)){\n",
    "            return matrix.get(fromNode).keys()\n",
    "        }\n",
    "        return []\n",
    "    }\n",
    "    return {set, get, keys, keysFor}\n",
    "}"
   ]
  },
  {
   "cell_type": "code",
   "execution_count": 102,
   "metadata": {},
   "outputs": [],
   "source": [
    "var myAMatrix = AMatrix()"
   ]
  },
  {
   "cell_type": "code",
   "execution_count": 103,
   "metadata": {},
   "outputs": [],
   "source": [
    "for ([k, v] of [[1, 3], [2, 3], [1, 6], [6, 2]]) {\n",
    "    myAMatrix.set(k, v)\n",
    "}"
   ]
  },
  {
   "cell_type": "code",
   "execution_count": 104,
   "metadata": {},
   "outputs": [
    {
     "data": {
      "text/plain": [
       "true"
      ]
     },
     "execution_count": 104,
     "metadata": {},
     "output_type": "execute_result"
    }
   ],
   "source": [
    "myAMatrix.get(1, 3)"
   ]
  },
  {
   "cell_type": "code",
   "execution_count": 105,
   "metadata": {},
   "outputs": [
    {
     "data": {
      "text/plain": [
       "false"
      ]
     },
     "execution_count": 105,
     "metadata": {},
     "output_type": "execute_result"
    }
   ],
   "source": [
    "myAMatrix.get(2, 6)"
   ]
  },
  {
   "cell_type": "code",
   "execution_count": 106,
   "metadata": {},
   "outputs": [
    {
     "data": {
      "text/plain": [
       "MapIterator { 1, 2, 6 }"
      ]
     },
     "execution_count": 106,
     "metadata": {},
     "output_type": "execute_result"
    }
   ],
   "source": [
    "myAMatrix.keys()"
   ]
  },
  {
   "cell_type": "code",
   "execution_count": 107,
   "metadata": {},
   "outputs": [
    {
     "data": {
      "text/plain": [
       "MapIterator { 3, 6 }"
      ]
     },
     "execution_count": 107,
     "metadata": {},
     "output_type": "execute_result"
    }
   ],
   "source": [
    "myAMatrix.keysFor(1)"
   ]
  },
  {
   "cell_type": "code",
   "execution_count": 108,
   "metadata": {},
   "outputs": [
    {
     "name": "stdout",
     "output_type": "stream",
     "text": [
      "3\n",
      "6\n"
     ]
    }
   ],
   "source": [
    "for (key of myAMatrix.keysFor(1)) {\n",
    "    console.log(key)\n",
    "}"
   ]
  },
  {
   "cell_type": "markdown",
   "metadata": {},
   "source": [
    "## 4.1 Route Between Nodes\n",
    "Given a directed graph, design an algorithm to find out whether there is a route between two nodes."
   ]
  },
  {
   "cell_type": "code",
   "execution_count": 109,
   "metadata": {
    "collapsed": true
   },
   "outputs": [],
   "source": [
    "var hasRoute = (amatrix, a, b) => {\n",
    "    const visited = new Map()\n",
    "    visited.set(a, true)\n",
    "    const q = []\n",
    "    q.push(a)\n",
    "    while (q.length){\n",
    "        let current = q.shift()\n",
    "        if (current === b) {\n",
    "            return true\n",
    "        }\n",
    "        for (next of amatrix.keysFor(current)){\n",
    "            if (!visited.get(next)){\n",
    "                visited.set(next, true)\n",
    "                q.push(next)\n",
    "            }\n",
    "            \n",
    "        }\n",
    "    }\n",
    "    return false\n",
    "}"
   ]
  },
  {
   "cell_type": "markdown",
   "metadata": {},
   "source": [
    "### Test cases"
   ]
  },
  {
   "cell_type": "code",
   "execution_count": 120,
   "metadata": {
    "collapsed": true
   },
   "outputs": [],
   "source": [
    "var myAMatrix = AMatrix()\n",
    "for (var nodePair of [\n",
    "    [0, 1],\n",
    "    [0, 5],\n",
    "    [0, 4],\n",
    "    [1, 3],\n",
    "    [1, 4],\n",
    "    [2, 1],\n",
    "    [3, 2],\n",
    "    [3, 4]\n",
    "]){\n",
    "    myAMatrix.set(nodePair[0], nodePair[1])\n",
    "}"
   ]
  },
  {
   "cell_type": "markdown",
   "metadata": {},
   "source": [
    "```\n",
    "5 <-- 0 --> 1 <-- 2\n",
    "         ↘  ↓  ↘  ↑\n",
    "            4 <-- 3\n",
    "```"
   ]
  },
  {
   "cell_type": "code",
   "execution_count": 122,
   "metadata": {},
   "outputs": [
    {
     "name": "stdout",
     "output_type": "stream",
     "text": [
      "2, 5 => false\n",
      "0, 5 => true\n",
      "5, 0 => false\n",
      "4, 5 => false\n",
      "0, 3 => true\n",
      "3, 0 => false\n"
     ]
    }
   ],
   "source": [
    "for (var [a, b] of [\n",
    "    [2, 5],\n",
    "    [0, 5],\n",
    "    [5, 0],\n",
    "    [4, 5],\n",
    "    [0, 3],\n",
    "    [3, 0]\n",
    "]){\n",
    "    console.log(a + \", \" + b + \" => \" + hasRoute(myAMatrix, a, b))\n",
    "}"
   ]
  },
  {
   "cell_type": "markdown",
   "metadata": {},
   "source": [
    "## 4.2 Minimal Tree"
   ]
  },
  {
   "cell_type": "code",
   "execution_count": null,
   "metadata": {
    "collapsed": true
   },
   "outputs": [],
   "source": []
  }
 ],
 "metadata": {
  "kernelspec": {
   "display_name": "Javascript (Node.js)",
   "language": "javascript",
   "name": "javascript"
  },
  "language_info": {
   "file_extension": ".js",
   "mimetype": "application/javascript",
   "name": "javascript",
   "version": "9.5.0"
  }
 },
 "nbformat": 4,
 "nbformat_minor": 2
}
