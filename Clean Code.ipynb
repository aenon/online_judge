{
 "cells": [
  {
   "cell_type": "markdown",
   "metadata": {},
   "source": [
    "## Chapter 1: Array/String"
   ]
  },
  {
   "cell_type": "markdown",
   "metadata": {},
   "source": [
    "### 1. Two Sum ([LC1](https://leetcode.com/problems/two-sum/description/))\n",
    "\n",
    "#### Question\n",
    "\n",
    "Given an array of integers, return indices of the two numbers such that they add up to a specific target.\n",
    "\n",
    "You may assume that each input would have exactly one solution, and you may not use the same element twice.\n",
    "\n",
    "#### Example\n",
    "\n",
    "Given `numbers = [2, 7, 11, 15]`, `target = 9`,\n",
    "\n",
    "Because `numbers[0] + numbers[1] = 2 + 7 = 9`,\n",
    "return `[0, 1]`."
   ]
  },
  {
   "cell_type": "markdown",
   "metadata": {},
   "source": [
    "#### Solution:\n",
    "O(n) runtime, O(n) space"
   ]
  },
  {
   "cell_type": "code",
   "execution_count": 1,
   "metadata": {
    "collapsed": true
   },
   "outputs": [],
   "source": [
    "/**\n",
    " * @param {number[]} numbers\n",
    " * @param {number} target\n",
    " * @return {number[]}\n",
    " */\n",
    "var twoSum = (numbers, target) => {\n",
    "    for (const i of [...Array(numbers.length).keys()]) {\n",
    "        if (numbers.includes(target - numbers[i])) {\n",
    "            const j = +Object.keys(numbers).find(key => numbers[key] == target - numbers[i] && key != i)\n",
    "            if (j) {\n",
    "                return [i, j]\n",
    "            }\n",
    "        }\n",
    "    }\n",
    "    return []\n",
    "}"
   ]
  },
  {
   "cell_type": "markdown",
   "metadata": {},
   "source": [
    "### 2. Two Sum II - Input array is sroted ([LC167](https://leetcode.com/problems/two-sum-ii-input-array-is-sorted/description/))\n",
    "Similar to Question [1. Two Sum], except that the input array is already sorted in\n",
    "ascending order."
   ]
  },
  {
   "cell_type": "markdown",
   "metadata": {},
   "source": [
    "#### Solution\n",
    "O(n) runtime, O(1) space\n",
    "\n",
    "Two pointers"
   ]
  },
  {
   "cell_type": "code",
   "execution_count": 22,
   "metadata": {
    "collapsed": true
   },
   "outputs": [],
   "source": [
    "var twoSum =(numbers, target) => {\n",
    "    let [i, j] = [0, numbers.length - 1]\n",
    "    while (i < j) {\n",
    "        const sum = numbers[i] + numbers[j]\n",
    "        if (sum < target) i++\n",
    "        else if (sum > target) j--\n",
    "        else return [i+1, j+1]\n",
    "    }\n",
    "}"
   ]
  },
  {
   "cell_type": "code",
   "execution_count": 25,
   "metadata": {},
   "outputs": [
    {
     "data": {
      "text/plain": [
       "[ 1, 2 ]"
      ]
     },
     "execution_count": 25,
     "metadata": {},
     "output_type": "execute_result"
    }
   ],
   "source": [
    "twoSum([1, 1, 2, 4, 8], 2)"
   ]
  },
  {
   "cell_type": "markdown",
   "metadata": {},
   "source": [
    "### 3. Two Sum III - Data structure design"
   ]
  }
 ],
 "metadata": {
  "kernelspec": {
   "display_name": "Javascript (Node.js)",
   "language": "javascript",
   "name": "javascript"
  },
  "language_info": {
   "file_extension": ".js",
   "mimetype": "application/javascript",
   "name": "javascript",
   "version": "8.9.4"
  }
 },
 "nbformat": 4,
 "nbformat_minor": 2
}
