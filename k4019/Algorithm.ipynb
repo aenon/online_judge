{
 "cells": [
  {
   "cell_type": "markdown",
   "metadata": {},
   "source": [
    "# JS: Algorithm Questions"
   ]
  },
  {
   "cell_type": "markdown",
   "metadata": {},
   "source": [
    "Reference http://www.thatjsdude.com/interview/js1.html"
   ]
  },
  {
   "cell_type": "markdown",
   "metadata": {},
   "source": [
    "1 Check prime"
   ]
  },
  {
   "cell_type": "code",
   "execution_count": 11,
   "metadata": {},
   "outputs": [
    {
     "data": {
      "text/plain": [
       "undefined"
      ]
     },
     "execution_count": 11,
     "metadata": {},
     "output_type": "execute_result"
    }
   ],
   "source": [
    "var isPrime = n => {\n",
    "    if (n < 2 || !Number.isInteger(n)) {\n",
    "        return false\n",
    "    }\n",
    "    for (let i = 2; i < Math.sqrt(n); i++){\n",
    "        if (n % i == 0) {\n",
    "            return false\n",
    "        }\n",
    "    }\n",
    "    return true\n",
    "}"
   ]
  },
  {
   "cell_type": "code",
   "execution_count": 24,
   "metadata": {},
   "outputs": [
    {
     "data": {
      "text/plain": [
       "undefined"
      ]
     },
     "execution_count": 24,
     "metadata": {},
     "output_type": "execute_result"
    }
   ],
   "source": [
    "var isPrime = n => {\n",
    "    if (n < 2 || !Number.isInteger(n)) {\n",
    "        return false\n",
    "    }\n",
    "    if (n > 2 && n % 2 == 0){\n",
    "        return false\n",
    "    }\n",
    "    let i = 3\n",
    "    for (let i = 3; i < Math.sqrt(n); i += 2){\n",
    "        if (n % i == 0) {\n",
    "            return false\n",
    "        }\n",
    "    }\n",
    "    return true\n",
    "}"
   ]
  },
  {
   "cell_type": "code",
   "execution_count": 25,
   "metadata": {},
   "outputs": [
    {
     "name": "stdout",
     "output_type": "stream",
     "text": [
      "2, 3, 5, 7, 9, 11, 13, 17, 19, 23, 25, 29, 31, 37, 41, 43, 47, 49, 53, 59, 61, 67, 71, 73, 79, 83, 89, 97, "
     ]
    },
    {
     "data": {
      "text/plain": [
       "undefined"
      ]
     },
     "execution_count": 25,
     "metadata": {},
     "output_type": "execute_result"
    }
   ],
   "source": [
    "for (const n of [...Array(100).keys()]) {\n",
    "    if (isPrime(n)) {\n",
    "        process.stdout.write(`${n}, `)\n",
    "    }\n",
    "}"
   ]
  },
  {
   "cell_type": "markdown",
   "metadata": {},
   "source": [
    "2 Prime Factors"
   ]
  },
  {
   "cell_type": "code",
   "execution_count": 5,
   "metadata": {},
   "outputs": [
    {
     "data": {
      "text/plain": [
       "undefined"
      ]
     },
     "execution_count": 5,
     "metadata": {},
     "output_type": "execute_result"
    }
   ],
   "source": [
    "var primeFactors = n => {\n",
    "    let factors = []\n",
    "    if (n < 1 || !Number.isInteger(n)) {\n",
    "        return factors\n",
    "    }\n",
    "    let divisor = 2\n",
    "    while (n > 2) {\n",
    "        if (n % divisor == 0) {\n",
    "            factors.push(divisor)\n",
    "            n = n / divisor\n",
    "        }\n",
    "        else n += 1\n",
    "    }\n",
    "    return factors\n",
    "}"
   ]
  },
  {
   "cell_type": "code",
   "execution_count": 6,
   "metadata": {},
   "outputs": [
    {
     "data": {
      "text/plain": [
       "[ 2, 2, 2, 2, 2 ]"
      ]
     },
     "execution_count": 6,
     "metadata": {},
     "output_type": "execute_result"
    }
   ],
   "source": [
    "primeFactors(60)"
   ]
  },
  {
   "cell_type": "markdown",
   "metadata": {},
   "source": [
    "3 Fibonacci"
   ]
  },
  {
   "cell_type": "code",
   "execution_count": 17,
   "metadata": {},
   "outputs": [
    {
     "data": {
      "text/plain": [
       "true"
      ]
     },
     "execution_count": 17,
     "metadata": {},
     "output_type": "execute_result"
    }
   ],
   "source": [
    "[3, 4].includes(4)"
   ]
  },
  {
   "cell_type": "code",
   "execution_count": 37,
   "metadata": {},
   "outputs": [
    {
     "data": {
      "text/plain": [
       "undefined"
      ]
     },
     "execution_count": 37,
     "metadata": {},
     "output_type": "execute_result"
    }
   ],
   "source": [
    "// O(n)\n",
    "var fibo = n => {\n",
    "    if (n < 1 || !Number.isInteger(n)) return 0\n",
    "    let [a, b] = [0, 1]\n",
    "    for (const i of [...Array(n).keys()]) [a, b] = [b, a+b]\n",
    "    return a\n",
    "}"
   ]
  },
  {
   "cell_type": "code",
   "execution_count": 64,
   "metadata": {},
   "outputs": [
    {
     "data": {
      "text/plain": [
       "[Function]"
      ]
     },
     "execution_count": 64,
     "metadata": {},
     "output_type": "execute_result"
    }
   ],
   "source": [
    "// O(n)\n",
    "Number.prototype.times = function(callback) {\n",
    "    for (let i = 0; i < this.valueOf(); i++) callback(i)\n",
    "}\n",
    "var fibo = n => {\n",
    "    if (n < 1 || !Number.isInteger(n)) return 0\n",
    "    let [a, b] = [0, 1]\n",
    "    n.times(() => {[a, b] = [b, a+b]})\n",
    "    return a\n",
    "}"
   ]
  },
  {
   "cell_type": "code",
   "execution_count": 72,
   "metadata": {},
   "outputs": [
    {
     "data": {
      "text/plain": [
       "undefined"
      ]
     },
     "execution_count": 72,
     "metadata": {},
     "output_type": "execute_result"
    }
   ],
   "source": [
    "// O(n^2), recursive\n",
    "var fibo = n => {\n",
    "    if (n < 1 || !Number.isInteger(n)) return 0\n",
    "    // if ([1, 2].includes(n)) return 1\n",
    "    if (n === 1) return 1\n",
    "    return fib(n - 1) + fib(n - 2)\n",
    "}"
   ]
  },
  {
   "cell_type": "code",
   "execution_count": 80,
   "metadata": {},
   "outputs": [
    {
     "data": {
      "text/plain": [
       "undefined"
      ]
     },
     "execution_count": 80,
     "metadata": {},
     "output_type": "execute_result"
    }
   ],
   "source": [
    "// O(n, recursive, with hashmap)\n",
    "var fibo = n => {\n",
    "    const fiboMap = new Map()\n",
    "        .set(0, 0)\n",
    "        .set(1, 1)\n",
    "    const fibonacci = n => {\n",
    "        if (n < 1 || !Number.isInteger(n)) return 0\n",
    "        return fiboMap.get(n) || fibonacci(n - 1) + fib(n - 2)\n",
    "    }\n",
    "    return fibonacci(n)\n",
    "}"
   ]
  },
  {
   "cell_type": "code",
   "execution_count": 81,
   "metadata": {},
   "outputs": [
    {
     "name": "stdout",
     "output_type": "stream",
     "text": [
      "0, 1, 1, 2, 3, 5, 8, 13, 21, 34, 55, 89, 144, 233, 377, 610, 987, 1597, 2584, 4181, "
     ]
    },
    {
     "data": {
      "text/plain": [
       "true"
      ]
     },
     "execution_count": 81,
     "metadata": {},
     "output_type": "execute_result"
    }
   ],
   "source": [
    "for (const n of [...Array(20).keys()]) {\n",
    "    process.stdout.write(`${fibo(n)}, `)\n",
    "}"
   ]
  },
  {
   "cell_type": "markdown",
   "metadata": {},
   "source": [
    "4 GCD"
   ]
  },
  {
   "cell_type": "code",
   "execution_count": 82,
   "metadata": {},
   "outputs": [
    {
     "data": {
      "text/plain": [
       "undefined"
      ]
     },
     "execution_count": 82,
     "metadata": {},
     "output_type": "execute_result"
    }
   ],
   "source": [
    "// \n",
    "var gcd = (a, b) => (b === 0)? a : gcd(b, a % b)"
   ]
  },
  {
   "cell_type": "code",
   "execution_count": 83,
   "metadata": {},
   "outputs": [
    {
     "data": {
      "text/plain": [
       "4"
      ]
     },
     "execution_count": 83,
     "metadata": {},
     "output_type": "execute_result"
    }
   ],
   "source": [
    "gcd(12, 16)"
   ]
  },
  {
   "cell_type": "code",
   "execution_count": null,
   "metadata": {
    "collapsed": true
   },
   "outputs": [],
   "source": []
  }
 ],
 "metadata": {
  "kernelspec": {
   "display_name": "Javascript (Node.js)",
   "language": "javascript",
   "name": "javascript"
  },
  "language_info": {
   "file_extension": ".js",
   "mimetype": "application/javascript",
   "name": "javascript",
   "version": "6.11.2"
  }
 },
 "nbformat": 4,
 "nbformat_minor": 2
}
