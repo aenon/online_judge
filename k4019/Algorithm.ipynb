{
 "cells": [
  {
   "cell_type": "markdown",
   "metadata": {},
   "source": [
    "# JS: Algorithm Questions"
   ]
  },
  {
   "cell_type": "markdown",
   "metadata": {},
   "source": [
    "Reference http://www.thatjsdude.com/interview/js1.html"
   ]
  },
  {
   "cell_type": "markdown",
   "metadata": {},
   "source": [
    "## 1. Check prime"
   ]
  },
  {
   "cell_type": "code",
   "execution_count": null,
   "metadata": {},
   "outputs": [],
   "source": [
    "var isPrime = n => {\n",
    "    if (n < 2 || !Number.isInteger(n)) {\n",
    "        return false\n",
    "    }\n",
    "    for (let i = 2; i < Math.sqrt(n); i++){\n",
    "        if (n % i == 0) {\n",
    "            return false\n",
    "        }\n",
    "    }\n",
    "    return true\n",
    "}"
   ]
  },
  {
   "cell_type": "code",
   "execution_count": null,
   "metadata": {},
   "outputs": [],
   "source": [
    "var isPrime = n => {\n",
    "    if (n < 2 || !Number.isInteger(n)) {\n",
    "        return false\n",
    "    }\n",
    "    if (n > 2 && n % 2 == 0){\n",
    "        return false\n",
    "    }\n",
    "    let i = 3\n",
    "    for (let i = 3; i < Math.sqrt(n); i += 2){\n",
    "        if (n % i == 0) {\n",
    "            return false\n",
    "        }\n",
    "    }\n",
    "    return true\n",
    "}"
   ]
  },
  {
   "cell_type": "code",
   "execution_count": null,
   "metadata": {},
   "outputs": [],
   "source": [
    "for (const n of [...Array(100).keys()]) {\n",
    "    if (isPrime(n)) {\n",
    "        process.stdout.write(`${n}, `)\n",
    "    }\n",
    "}"
   ]
  },
  {
   "cell_type": "markdown",
   "metadata": {},
   "source": [
    "## 2. Prime Factors"
   ]
  },
  {
   "cell_type": "code",
   "execution_count": null,
   "metadata": {},
   "outputs": [],
   "source": [
    "var primeFactors = n => {\n",
    "    let factors = []\n",
    "    if (n < 1 || !Number.isInteger(n)) {\n",
    "        return factors\n",
    "    }\n",
    "    let divisor = 2\n",
    "    while (n > 2) {\n",
    "        if (n % divisor == 0) {\n",
    "            factors.push(divisor)\n",
    "            n = n / divisor\n",
    "        }\n",
    "        else n += 1\n",
    "    }\n",
    "    return factors\n",
    "}"
   ]
  },
  {
   "cell_type": "code",
   "execution_count": null,
   "metadata": {},
   "outputs": [],
   "source": [
    "primeFactors(60)"
   ]
  },
  {
   "cell_type": "markdown",
   "metadata": {},
   "source": [
    "## 3. Fibonacci"
   ]
  },
  {
   "cell_type": "code",
   "execution_count": null,
   "metadata": {},
   "outputs": [],
   "source": [
    "// O(n), looping\n",
    "var fibo = n => {\n",
    "    if (n < 1 || !Number.isInteger(n)) return 0\n",
    "    let [a, b] = [0, 1]\n",
    "    for (const i of [...Array(n).keys()]) [a, b] = [b, a+b]\n",
    "    return a\n",
    "}"
   ]
  },
  {
   "cell_type": "code",
   "execution_count": null,
   "metadata": {},
   "outputs": [],
   "source": [
    "// O(n), looping\n",
    "Number.prototype.times = function(callback) {\n",
    "    for (let i = 0; i < this.valueOf(); i++) callback(i)\n",
    "}\n",
    "var fibo = n => {\n",
    "    if (n < 1 || !Number.isInteger(n)) return 0\n",
    "    let [a, b] = [0, 1]\n",
    "    n.times(() => {[a, b] = [b, a+b]})\n",
    "    return a\n",
    "}"
   ]
  },
  {
   "cell_type": "code",
   "execution_count": null,
   "metadata": {},
   "outputs": [],
   "source": [
    "// O(n^2), recursive\n",
    "var fibo = n => {\n",
    "    if (n < 1 || !Number.isInteger(n)) return 0\n",
    "    // if ([1, 2].includes(n)) return 1\n",
    "    if (n === 1) return 1\n",
    "    return fib(n - 1) + fib(n - 2)\n",
    "}"
   ]
  },
  {
   "cell_type": "code",
   "execution_count": null,
   "metadata": {},
   "outputs": [],
   "source": [
    "// O(n), recursive, with hashmap\n",
    "var fibo = n => {\n",
    "    const fiboMap = new Map()\n",
    "        .set(0, 0)\n",
    "        .set(1, 1)\n",
    "    const fibonacci = n => {\n",
    "        if (n < 1 || !Number.isInteger(n)) return 0\n",
    "        return fiboMap.get(n) || fibonacci(n - 1) + fib(n - 2)\n",
    "    }\n",
    "    return fibonacci(n)\n",
    "}"
   ]
  },
  {
   "cell_type": "code",
   "execution_count": null,
   "metadata": {},
   "outputs": [],
   "source": [
    "for (const n of [...Array(20).keys()]) {\n",
    "    process.stdout.write(`${fibo(n)}, `)\n",
    "}"
   ]
  },
  {
   "cell_type": "markdown",
   "metadata": {},
   "source": [
    "## 4. GCD"
   ]
  },
  {
   "cell_type": "code",
   "execution_count": null,
   "metadata": {
    "collapsed": true
   },
   "outputs": [],
   "source": [
    "// iterative Euclidean\n",
    "var gcd = (a, b) => {\n",
    "    let [x, y] = [a, b]\n",
    "    while (y > 0) [x, y] = [y, x % y]\n",
    "    return x\n",
    "}"
   ]
  },
  {
   "cell_type": "code",
   "execution_count": null,
   "metadata": {},
   "outputs": [],
   "source": [
    "// recursive Euclidean\n",
    "var gcd = (a, b) => (b === 0)? a : gcd(b, a % b)"
   ]
  },
  {
   "cell_type": "code",
   "execution_count": null,
   "metadata": {
    "collapsed": true
   },
   "outputs": [],
   "source": [
    "// iterative Binary GCD\n",
    "// from https://en.wikipedia.org/wiki/Binary_GCD_algorithm\n",
    "var gcd = (u, v) =>{\n",
    "    let shift = 0\n",
    "    // if one is zero, return the other\n",
    "    if (u == 0) return v\n",
    "    if (v == 0) return u\n",
    "    // if both even, divide by 2 and note it\n",
    "    while (!((u | v) & 1)) {\n",
    "        u >>= 1\n",
    "        v >>= 1\n",
    "        shift ++\n",
    "    }\n",
    "    // if only one is even, devide it by 2\n",
    "    while (!(u & 1)) u >>= 1\n",
    "    while (v != 0) {\n",
    "        /* remove all factors of 2 in v -- they are not common */\n",
    "        while (!(v & 1)) v >>= 1\n",
    "        /* Now u and v are both odd. Swap if necessary so u <= v,\n",
    "        then set v = v - u (which is even). For bignums, the\n",
    "        swapping is just pointer movement, and the subtraction\n",
    "        can be done in-place. */\n",
    "        if (u > v) [u, v] = [v, u] // Swap u and v.\n",
    "        v = v - u; // Here v >= u.\n",
    "    }\n",
    "    /* restore common factors of 2 */\n",
    "    return u << shift\n",
    "}"
   ]
  },
  {
   "cell_type": "code",
   "execution_count": null,
   "metadata": {
    "collapsed": true
   },
   "outputs": [],
   "source": [
    "// recursive Binary GCD\n",
    "// from https://en.wikipedia.org/wiki/Binary_GCD_algorithm\n",
    "var gcd = (u, v) =>\n",
    "{\n",
    "    // simple cases (termination)\n",
    "    if (u == v) return u;\n",
    "\n",
    "    if (u == 0) return v;\n",
    "\n",
    "    if (v == 0) return u;\n",
    "\n",
    "    // look for factors of 2\n",
    "    if (~u & 1) // u is even\n",
    "    {\n",
    "        if (v & 1) // v is odd\n",
    "            return gcd(u >> 1, v);\n",
    "        else // both u and v are even\n",
    "            return gcd(u >> 1, v >> 1) << 1;\n",
    "    }\n",
    "\n",
    "    if (~v & 1) return gcd(u, v >> 1);\n",
    "\n",
    "    // reduce larger argument\n",
    "    if (u > v) [u, v] = [v, u]\n",
    "    return gcd((v - u) >> 1, u);\n",
    "}"
   ]
  },
  {
   "cell_type": "code",
   "execution_count": null,
   "metadata": {},
   "outputs": [],
   "source": [
    "gcd(12, 16)"
   ]
  },
  {
   "cell_type": "markdown",
   "metadata": {
    "collapsed": true
   },
   "source": [
    "## 5. Remove Duplicates"
   ]
  },
  {
   "cell_type": "code",
   "execution_count": null,
   "metadata": {
    "collapsed": true
   },
   "outputs": [],
   "source": [
    "var noDup = arr => Array.from(new Set(arr))"
   ]
  },
  {
   "cell_type": "code",
   "execution_count": null,
   "metadata": {
    "collapsed": true
   },
   "outputs": [],
   "source": [
    "var noDup = arr => {\n",
    "    const arrMap = new Map()\n",
    "    arr.forEach(element => {\n",
    "        if (!arrMap.get(element)) arrMap.set(element, true)\n",
    "    })\n",
    "    return Array.from(arrMap.keys())\n",
    "}"
   ]
  },
  {
   "cell_type": "code",
   "execution_count": null,
   "metadata": {},
   "outputs": [],
   "source": [
    "noDup([1, 1, 3, 7, 5, 5, 3, 2])"
   ]
  },
  {
   "cell_type": "markdown",
   "metadata": {},
   "source": [
    "## 6. Merge Two Sorted Arrays"
   ]
  },
  {
   "cell_type": "code",
   "execution_count": null,
   "metadata": {
    "collapsed": true
   },
   "outputs": [],
   "source": [
    "var mergeArr = (a1, a2) => {\n",
    "//     let [i, j] = [0, 0]\n",
    "//     while (i < a1.length && j < a2.length) {\n",
    "        \n",
    "//     }\n",
    "    const ret = []\n",
    "    while (a1 && a2) {\n",
    "        ret.push((a1[0] < a2[0]) ? a1.shift() : a2.shift())\n",
    "    }\n",
    "    return ret\n",
    "}"
   ]
  },
  {
   "cell_type": "code",
   "execution_count": null,
   "metadata": {
    "collapsed": true
   },
   "outputs": [],
   "source": [
    "mergeArr([2,5,6,9], [1,2,3,29])"
   ]
  },
  {
   "cell_type": "markdown",
   "metadata": {},
   "source": [
    "## 7. Swap Two Variables"
   ]
  },
  {
   "cell_type": "code",
   "execution_count": 1,
   "metadata": {
    "collapsed": true
   },
   "outputs": [],
   "source": [
    "var swap = (a, b) => {\n",
    "    b -= a\n",
    "    a += b\n",
    "    b = a - b\n",
    "    return [a, b]\n",
    "}"
   ]
  },
  {
   "cell_type": "code",
   "execution_count": 2,
   "metadata": {
    "collapsed": true
   },
   "outputs": [],
   "source": [
    "var swap = (a, b) => {\n",
    "    a ^= b\n",
    "    b ^= a\n",
    "    a ^= b\n",
    "    return [a, b]\n",
    "}"
   ]
  },
  {
   "cell_type": "code",
   "execution_count": null,
   "metadata": {
    "collapsed": true
   },
   "outputs": [],
   "source": []
  }
 ],
 "metadata": {
  "kernelspec": {
   "display_name": "Javascript (Node.js)",
   "language": "javascript",
   "name": "javascript"
  },
  "language_info": {
   "file_extension": ".js",
   "mimetype": "application/javascript",
   "name": "javascript",
   "version": "8.9.4"
  }
 },
 "nbformat": 4,
 "nbformat_minor": 2
}
