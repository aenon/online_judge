{
 "cells": [
  {
   "cell_type": "markdown",
   "metadata": {},
   "source": [
    "CodeJam Practice"
   ]
  },
  {
   "cell_type": "code",
   "execution_count": 23,
   "metadata": {
    "collapsed": true
   },
   "outputs": [],
   "source": [
    "def last_number(orig_number):\n",
    "    curr_number = 0\n",
    "    digit_appeared = [False] * 10\n",
    "    while sum(digit_appeared) < 10:\n",
    "        curr_number += orig_number\n",
    "        numcheck = curr_number\n",
    "        while numcheck > 0:\n",
    "            digit_appeared[numcheck % 10] = True\n",
    "            numcheck /= 10\n",
    "        \n",
    "    return curr_number"
   ]
  },
  {
   "cell_type": "code",
   "execution_count": 28,
   "metadata": {
    "collapsed": false
   },
   "outputs": [
    {
     "name": "stdout",
     "output_type": "stream",
     "text": [
      "5\n",
      "0\n",
      "Case #1: INSOMNIA\n",
      "1\n",
      "Case #2: 10\n",
      "2\n",
      "Case #3: 90\n",
      "11\n",
      "Case #4: 110\n",
      "1692\n",
      "Case #5: 5076\n"
     ]
    }
   ],
   "source": [
    "t = int(raw_input())  # read a line with a single integer\n",
    "for i in xrange(1, t + 1):\n",
    "    a = int(raw_input()) \n",
    "    if a == 0:\n",
    "        print(\"Case #%d: INSOMNIA\" % (i))\n",
    "        continue\n",
    "    print(\"Case #%d: %d\" % (i, last_number(a)))"
   ]
  }
 ],
 "metadata": {
  "kernelspec": {
   "display_name": "Python [Root]",
   "language": "python",
   "name": "Python [Root]"
  },
  "language_info": {
   "codemirror_mode": {
    "name": "ipython",
    "version": 2
   },
   "file_extension": ".py",
   "mimetype": "text/x-python",
   "name": "python",
   "nbconvert_exporter": "python",
   "pygments_lexer": "ipython2",
   "version": "2.7.12"
  }
 },
 "nbformat": 4,
 "nbformat_minor": 0
}
